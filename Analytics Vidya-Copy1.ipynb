{
 "cells": [
  {
   "cell_type": "code",
   "execution_count": 380,
   "id": "dc4783f2",
   "metadata": {},
   "outputs": [],
   "source": [
    "\n",
    "import pandas as pd\n",
    "import numpy as np\n",
    "\n",
    "import matplotlib.pyplot as plt\n",
    "import seaborn as sns\n",
    "from sklearn.linear_model import LogisticRegression\n",
    "from sklearn import metrics\n",
    "from sklearn.ensemble import RandomForestClassifier as rcf\n",
    "from sklearn.tree import DecisionTreeClassifier as dct\n",
    "from sklearn.model_selection import cross_val_score\n",
    "#from lightgbm import LGBMClassifier as lgb\n",
    "from sklearn.tree import DecisionTreeClassifier as dct\n",
    "from sklearn.preprocessing import LabelEncoder\n",
    "from sklearn.metrics import mean_squared_error, roc_auc_score, roc_curve\n",
    "#from catboost import CatBoostClassifier, \n",
    "import matplotlib.pyplot as plt\n",
    "%matplotlib inline\n",
    "plt.rcParams['figure.figsize'] = (8, 6.0)\n",
    "import seaborn as sns\n",
    "from scipy import stats\n",
    "from scipy.stats import norm\n",
    "import warnings\n",
    "warnings.filterwarnings('ignore')"
   ]
  },
  {
   "cell_type": "code",
   "execution_count": null,
   "id": "18feaba5",
   "metadata": {},
   "outputs": [],
   "source": []
  },
  {
   "cell_type": "code",
   "execution_count": 496,
   "id": "5febd5e8",
   "metadata": {},
   "outputs": [],
   "source": [
    "train  = pd.read_csv(r'C:\\Users\\hemanth.kumar\\Downloads\\Supplement Sales Prediction\\TRAIN.csv')\n",
    "\n",
    "test  = pd.read_csv(r'C:\\Users\\hemanth.kumar\\Downloads\\Supplement Sales Prediction\\TEST_FINAL.csv')"
   ]
  },
  {
   "cell_type": "code",
   "execution_count": 497,
   "id": "538d6abd",
   "metadata": {},
   "outputs": [
    {
     "name": "stdout",
     "output_type": "stream",
     "text": [
      "(188340, 10)\n",
      "(22265, 8)\n"
     ]
    }
   ],
   "source": [
    "print (train.shape)\n",
    "\n",
    "print (test.shape)"
   ]
  },
  {
   "cell_type": "code",
   "execution_count": 498,
   "id": "871a8c1e",
   "metadata": {},
   "outputs": [
    {
     "data": {
      "text/plain": [
       "ID               0\n",
       "Store_id         0\n",
       "Store_Type       0\n",
       "Location_Type    0\n",
       "Region_Code      0\n",
       "Date             0\n",
       "Holiday          0\n",
       "Discount         0\n",
       "#Order           0\n",
       "Sales            0\n",
       "dtype: int64"
      ]
     },
     "execution_count": 498,
     "metadata": {},
     "output_type": "execute_result"
    }
   ],
   "source": [
    "train.isnull().sum()"
   ]
  },
  {
   "cell_type": "code",
   "execution_count": 499,
   "id": "c9606cd0",
   "metadata": {},
   "outputs": [
    {
     "data": {
      "text/plain": [
       "ID               0\n",
       "Store_id         0\n",
       "Store_Type       0\n",
       "Location_Type    0\n",
       "Region_Code      0\n",
       "Date             0\n",
       "Holiday          0\n",
       "Discount         0\n",
       "dtype: int64"
      ]
     },
     "execution_count": 499,
     "metadata": {},
     "output_type": "execute_result"
    }
   ],
   "source": [
    "test.isnull().sum()"
   ]
  },
  {
   "cell_type": "code",
   "execution_count": 500,
   "id": "b09b3b79",
   "metadata": {},
   "outputs": [
    {
     "data": {
      "text/plain": [
       "<AxesSubplot:xlabel='Sales', ylabel='Density'>"
      ]
     },
     "execution_count": 500,
     "metadata": {},
     "output_type": "execute_result"
    },
    {
     "data": {
      "image/png": "[encoded data removed]",
      "text/plain": [
       "<Figure size 576x432 with 1 Axes>"
      ]
     },
     "metadata": {
      "needs_background": "light"
     },
     "output_type": "display_data"
    }
   ],
   "source": [
    "sns.distplot(train['Sales'])"
   ]
  },
  {
   "cell_type": "markdown",
   "id": "88a5e400",
   "metadata": {},
   "source": [
    "# Data Contains Outliers"
   ]
  },
  {
   "cell_type": "code",
   "execution_count": 501,
   "id": "8df941bb",
   "metadata": {},
   "outputs": [
    {
     "data": {
      "text/html": [
       "<div>\n",
       "<style scoped>\n",
       "    .dataframe tbody tr th:only-of-type {\n",
       "        vertical-align: middle;\n",
       "    }\n",
       "\n",
       "    .dataframe tbody tr th {\n",
       "        vertical-align: top;\n",
       "    }\n",
       "\n",
       "    .dataframe thead th {\n",
       "        text-align: right;\n",
       "    }\n",
       "</style>\n",
       "<table border=\"1\" class=\"dataframe\">\n",
       "  <thead>\n",
       "    <tr style=\"text-align: right;\">\n",
       "      <th></th>\n",
       "      <th>Store_id</th>\n",
       "      <th>Holiday</th>\n",
       "      <th>#Order</th>\n",
       "      <th>Sales</th>\n",
       "    </tr>\n",
       "  </thead>\n",
       "  <tbody>\n",
       "    <tr>\n",
       "      <th>count</th>\n",
       "      <td>188340.000000</td>\n",
       "      <td>188340.000000</td>\n",
       "      <td>188340.000000</td>\n",
       "      <td>188340.000000</td>\n",
       "    </tr>\n",
       "    <tr>\n",
       "      <th>mean</th>\n",
       "      <td>183.000000</td>\n",
       "      <td>0.131783</td>\n",
       "      <td>68.205692</td>\n",
       "      <td>42784.327982</td>\n",
       "    </tr>\n",
       "    <tr>\n",
       "      <th>std</th>\n",
       "      <td>105.366308</td>\n",
       "      <td>0.338256</td>\n",
       "      <td>30.467415</td>\n",
       "      <td>18456.708302</td>\n",
       "    </tr>\n",
       "    <tr>\n",
       "      <th>min</th>\n",
       "      <td>1.000000</td>\n",
       "      <td>0.000000</td>\n",
       "      <td>0.000000</td>\n",
       "      <td>0.000000</td>\n",
       "    </tr>\n",
       "    <tr>\n",
       "      <th>25%</th>\n",
       "      <td>92.000000</td>\n",
       "      <td>0.000000</td>\n",
       "      <td>48.000000</td>\n",
       "      <td>30426.000000</td>\n",
       "    </tr>\n",
       "    <tr>\n",
       "      <th>50%</th>\n",
       "      <td>183.000000</td>\n",
       "      <td>0.000000</td>\n",
       "      <td>63.000000</td>\n",
       "      <td>39678.000000</td>\n",
       "    </tr>\n",
       "    <tr>\n",
       "      <th>75%</th>\n",
       "      <td>274.000000</td>\n",
       "      <td>0.000000</td>\n",
       "      <td>82.000000</td>\n",
       "      <td>51909.000000</td>\n",
       "    </tr>\n",
       "    <tr>\n",
       "      <th>max</th>\n",
       "      <td>365.000000</td>\n",
       "      <td>1.000000</td>\n",
       "      <td>371.000000</td>\n",
       "      <td>247215.000000</td>\n",
       "    </tr>\n",
       "  </tbody>\n",
       "</table>\n",
       "</div>"
      ],
      "text/plain": [
       "            Store_id        Holiday         #Order          Sales\n",
       "count  188340.000000  188340.000000  188340.000000  188340.000000\n",
       "mean      183.000000       0.131783      68.205692   42784.327982\n",
       "std       105.366308       0.338256      30.467415   18456.708302\n",
       "min         1.000000       0.000000       0.000000       0.000000\n",
       "25%        92.000000       0.000000      48.000000   30426.000000\n",
       "50%       183.000000       0.000000      63.000000   39678.000000\n",
       "75%       274.000000       0.000000      82.000000   51909.000000\n",
       "max       365.000000       1.000000     371.000000  247215.000000"
      ]
     },
     "execution_count": 501,
     "metadata": {},
     "output_type": "execute_result"
    }
   ],
   "source": [
    "train.describe()"
   ]
  },
  {
   "cell_type": "code",
   "execution_count": 502,
   "id": "0464d270",
   "metadata": {},
   "outputs": [
    {
     "data": {
      "image/png": "[encoded data removed]",
      "text/plain": [
       "<Figure size 576x432 with 1 Axes>"
      ]
     },
     "metadata": {
      "needs_background": "light"
     },
     "output_type": "display_data"
    }
   ],
   "source": [
    "plt.hist(train['Sales'], bins = 20, color = 'pink')\n",
    "plt.title('Target Variable')\n",
    "plt.xlabel('Item Outlet Sales')\n",
    "plt.ylabel('count')\n",
    "plt.show()"
   ]
  },
  {
   "cell_type": "code",
   "execution_count": 503,
   "id": "319fa68b",
   "metadata": {},
   "outputs": [
    {
     "data": {
      "text/plain": [
       "<AxesSubplot:xlabel='Sales'>"
      ]
     },
     "execution_count": 503,
     "metadata": {},
     "output_type": "execute_result"
    },
    {
     "data": {
      "image/png": "[encoded data removed]",
      "text/plain": [
       "<Figure size 576x432 with 1 Axes>"
      ]
     },
     "metadata": {
      "needs_background": "light"
     },
     "output_type": "display_data"
    }
   ],
   "source": [
    "sns.boxplot(train['Sales'])"
   ]
  },
  {
   "cell_type": "markdown",
   "id": "30bd97d8",
   "metadata": {},
   "source": [
    "#Data Contains Outliers"
   ]
  },
  {
   "cell_type": "code",
   "execution_count": 504,
   "id": "885b5a08",
   "metadata": {},
   "outputs": [
    {
     "data": {
      "text/plain": [
       "ID               0\n",
       "Store_id         0\n",
       "Store_Type       0\n",
       "Location_Type    0\n",
       "Region_Code      0\n",
       "Date             0\n",
       "Holiday          0\n",
       "Discount         0\n",
       "#Order           0\n",
       "Sales            0\n",
       "dtype: int64"
      ]
     },
     "execution_count": 504,
     "metadata": {},
     "output_type": "execute_result"
    }
   ],
   "source": [
    "train.isnull().sum()"
   ]
  },
  {
   "cell_type": "markdown",
   "id": "c3930c62",
   "metadata": {},
   "source": [
    "# Data does't have any null values"
   ]
  },
  {
   "cell_type": "code",
   "execution_count": 505,
   "id": "e7460381",
   "metadata": {},
   "outputs": [
    {
     "data": {
      "text/plain": [
       "Index(['ID', 'Store_id', 'Store_Type', 'Location_Type', 'Region_Code', 'Date',\n",
       "       'Holiday', 'Discount', '#Order', 'Sales'],\n",
       "      dtype='object')"
      ]
     },
     "execution_count": 505,
     "metadata": {},
     "output_type": "execute_result"
    }
   ],
   "source": [
    "train.columns"
   ]
  },
  {
   "cell_type": "code",
   "execution_count": 506,
   "id": "e58169b5",
   "metadata": {},
   "outputs": [
    {
     "data": {
      "image/png": "[encoded data removed]",
      "text/plain": [
       "<Figure size 576x432 with 1 Axes>"
      ]
     },
     "metadata": {
      "needs_background": "light"
     },
     "output_type": "display_data"
    }
   ],
   "source": [
    "# we will analyze only the training set\n",
    "\n",
    "train['Store_Type'].value_counts(normalize = True)\n",
    "train['Store_Type'].value_counts().plot.bar()\n",
    "plt.title('Different varieties store')\n",
    "plt.xlabel('Fat')\n",
    "plt.ylabel('Number of Items')\n",
    "plt.show()"
   ]
  },
  {
   "cell_type": "code",
   "execution_count": 507,
   "id": "250dec25",
   "metadata": {},
   "outputs": [
    {
     "data": {
      "image/png": "[encoded data removed]",
      "text/plain": [
       "<Figure size 576x432 with 1 Axes>"
      ]
     },
     "metadata": {
      "needs_background": "light"
     },
     "output_type": "display_data"
    }
   ],
   "source": [
    "train['Location_Type'].value_counts(normalize = True)\n",
    "train['Location_Type'].value_counts().plot.bar()\n",
    "plt.title('Location Types')\n",
    "plt.xlabel('Fat')\n",
    "plt.ylabel('Number of Items')\n",
    "plt.show()"
   ]
  },
  {
   "cell_type": "code",
   "execution_count": 508,
   "id": "fb343de7",
   "metadata": {},
   "outputs": [],
   "source": [
    "# LOCATION Type L4 & L5 not frequently occured"
   ]
  },
  {
   "cell_type": "code",
   "execution_count": 509,
   "id": "f8b70d41",
   "metadata": {},
   "outputs": [
    {
     "data": {
      "image/png": "[encoded data removed]",
      "text/plain": [
       "<Figure size 576x432 with 1 Axes>"
      ]
     },
     "metadata": {
      "needs_background": "light"
     },
     "output_type": "display_data"
    }
   ],
   "source": [
    "train['Region_Code'].value_counts(normalize = True)\n",
    "train['Region_Code'].value_counts().plot.bar()\n",
    "plt.title('Region Types')\n",
    "plt.xlabel('Fat')\n",
    "plt.ylabel('Number of Items')\n",
    "plt.show()"
   ]
  },
  {
   "cell_type": "code",
   "execution_count": null,
   "id": "be220315",
   "metadata": {},
   "outputs": [],
   "source": []
  },
  {
   "cell_type": "markdown",
   "id": "5553908c",
   "metadata": {},
   "source": [
    "# Outlier Removal"
   ]
  },
  {
   "cell_type": "code",
   "execution_count": 510,
   "id": "15b318eb",
   "metadata": {},
   "outputs": [
    {
     "data": {
      "text/plain": [
       "21483.0"
      ]
     },
     "execution_count": 510,
     "metadata": {},
     "output_type": "execute_result"
    }
   ],
   "source": [
    "from scipy import stats\n",
    "import numpy as np\n",
    "\n",
    "# IQR\n",
    "Q1 = np.percentile(train['Sales'], 25,\n",
    "                   interpolation = 'midpoint')\n",
    " \n",
    "Q3 = np.percentile(train['Sales'], 75,\n",
    "                   interpolation = 'midpoint')\n",
    "IQR = Q3 - Q1\n",
    "IQR"
   ]
  },
  {
   "cell_type": "code",
   "execution_count": 511,
   "id": "f40765b6",
   "metadata": {},
   "outputs": [],
   "source": [
    "#train_org = train"
   ]
  },
  {
   "cell_type": "markdown",
   "id": "dee8b065",
   "metadata": {},
   "source": [
    "# Outliers Removed based on Sales Data"
   ]
  },
  {
   "cell_type": "code",
   "execution_count": 512,
   "id": "e3c11f63",
   "metadata": {},
   "outputs": [
    {
     "name": "stdout",
     "output_type": "stream",
     "text": [
      "Old Shape:  (188340, 10)\n",
      "New Shape:  (182497, 10)\n"
     ]
    }
   ],
   "source": [
    "print(\"Old Shape: \", train.shape)\n",
    " \n",
    "# Upper bound\n",
    "upper = np.where(train['Sales'] >= (Q3+1.5*IQR))\n",
    "# Lower bound\n",
    "lower = np.where(train['Sales']<= (Q1-1.5*IQR))\n",
    " \n",
    "''' Removing the Outliers '''\n",
    "train.drop(upper[0], inplace = True)\n",
    "train.drop(lower[0], inplace = True)\n",
    " \n",
    "print(\"New Shape: \", train.shape)"
   ]
  },
  {
   "cell_type": "code",
   "execution_count": 513,
   "id": "ec734d23",
   "metadata": {},
   "outputs": [
    {
     "data": {
      "text/plain": [
       "<AxesSubplot:xlabel='Sales'>"
      ]
     },
     "execution_count": 513,
     "metadata": {},
     "output_type": "execute_result"
    },
    {
     "data": {
      "image/png": "[encoded data removed]",
      "text/plain": [
       "<Figure size 576x432 with 1 Axes>"
      ]
     },
     "metadata": {
      "needs_background": "light"
     },
     "output_type": "display_data"
    }
   ],
   "source": [
    "sns.boxplot(train['Sales'])"
   ]
  },
  {
   "cell_type": "code",
   "execution_count": 514,
   "id": "bf7f15b4",
   "metadata": {},
   "outputs": [
    {
     "data": {
      "text/plain": [
       "<AxesSubplot:xlabel='Sales', ylabel='Density'>"
      ]
     },
     "execution_count": 514,
     "metadata": {},
     "output_type": "execute_result"
    },
    {
     "data": {
      "image/png": "[encoded data removed]",
      "text/plain": [
       "<Figure size 576x432 with 1 Axes>"
      ]
     },
     "metadata": {
      "needs_background": "light"
     },
     "output_type": "display_data"
    }
   ],
   "source": [
    "sns.distplot(train['Sales'])"
   ]
  },
  {
   "cell_type": "code",
   "execution_count": 515,
   "id": "09556652",
   "metadata": {},
   "outputs": [
    {
     "data": {
      "text/plain": [
       "<AxesSubplot:xlabel='Discount', ylabel='Sales'>"
      ]
     },
     "execution_count": 515,
     "metadata": {},
     "output_type": "execute_result"
    },
    {
     "data": {
      "image/png": "[encoded data removed]",
      "text/plain": [
       "<Figure size 576x432 with 1 Axes>"
      ]
     },
     "metadata": {
      "needs_background": "light"
     },
     "output_type": "display_data"
    }
   ],
   "source": [
    "sns.scatterplot(x=\"Discount\", y=\"Sales\", data=train) "
   ]
  },
  {
   "cell_type": "code",
   "execution_count": 516,
   "id": "841df565",
   "metadata": {},
   "outputs": [
    {
     "data": {
      "text/plain": [
       "<AxesSubplot:xlabel='Holiday', ylabel='Sales'>"
      ]
     },
     "execution_count": 516,
     "metadata": {},
     "output_type": "execute_result"
    },
    {
     "data": {
      "image/png": "[encoded data removed]",
      "text/plain": [
       "<Figure size 576x432 with 1 Axes>"
      ]
     },
     "metadata": {
      "needs_background": "light"
     },
     "output_type": "display_data"
    }
   ],
   "source": [
    "sns.scatterplot(x=\"Holiday\", y=\"Sales\", data=train) "
   ]
  },
  {
   "cell_type": "code",
   "execution_count": 517,
   "id": "0dd93dbe",
   "metadata": {},
   "outputs": [
    {
     "data": {
      "text/plain": [
       "<AxesSubplot:xlabel='Location_Type', ylabel='Sales'>"
      ]
     },
     "execution_count": 517,
     "metadata": {},
     "output_type": "execute_result"
    },
    {
     "data": {
      "image/png": "[encoded data removed]",
      "text/plain": [
       "<Figure size 576x432 with 1 Axes>"
      ]
     },
     "metadata": {
      "needs_background": "light"
     },
     "output_type": "display_data"
    }
   ],
   "source": [
    "sns.scatterplot(x=\"Location_Type\", y=\"Sales\", data=train) "
   ]
  },
  {
   "cell_type": "code",
   "execution_count": 518,
   "id": "8955e0f4",
   "metadata": {},
   "outputs": [],
   "source": [
    "# lOCATION TYPE 2 HAVE MORE NUMBER OF SALES ,COMPARE TO OTHER Location type"
   ]
  },
  {
   "cell_type": "code",
   "execution_count": 519,
   "id": "f4706f98",
   "metadata": {},
   "outputs": [
    {
     "data": {
      "text/plain": [
       "<AxesSubplot:xlabel='Region_Code', ylabel='Sales'>"
      ]
     },
     "execution_count": 519,
     "metadata": {},
     "output_type": "execute_result"
    },
    {
     "data": {
      "image/png": "[encoded data removed]",
      "text/plain": [
       "<Figure size 576x432 with 1 Axes>"
      ]
     },
     "metadata": {
      "needs_background": "light"
     },
     "output_type": "display_data"
    }
   ],
   "source": [
    "\n",
    "sns.scatterplot(x=\"Region_Code\", y=\"Sales\", data=train) "
   ]
  },
  {
   "cell_type": "code",
   "execution_count": 520,
   "id": "ec178390",
   "metadata": {},
   "outputs": [
    {
     "data": {
      "text/plain": [
       "<AxesSubplot:xlabel='Region_Code', ylabel='#Order'>"
      ]
     },
     "execution_count": 520,
     "metadata": {},
     "output_type": "execute_result"
    },
    {
     "data": {
      "image/png": "[encoded data removed]",
      "text/plain": [
       "<Figure size 576x432 with 1 Axes>"
      ]
     },
     "metadata": {
      "needs_background": "light"
     },
     "output_type": "display_data"
    }
   ],
   "source": [
    "sns.scatterplot(x=\"Region_Code\", y=\"#Order\", data=train) "
   ]
  },
  {
   "cell_type": "code",
   "execution_count": 521,
   "id": "4259701e",
   "metadata": {},
   "outputs": [
    {
     "data": {
      "text/plain": [
       "<AxesSubplot:xlabel='Holiday', ylabel='#Order'>"
      ]
     },
     "execution_count": 521,
     "metadata": {},
     "output_type": "execute_result"
    },
    {
     "data": {
      "image/png": "[encoded data removed]",
      "text/plain": [
       "<Figure size 576x432 with 1 Axes>"
      ]
     },
     "metadata": {
      "needs_background": "light"
     },
     "output_type": "display_data"
    }
   ],
   "source": [
    "sns.scatterplot(x=\"Holiday\", y=\"#Order\", data=train) "
   ]
  },
  {
   "cell_type": "code",
   "execution_count": null,
   "id": "fda846a0",
   "metadata": {},
   "outputs": [],
   "source": []
  },
  {
   "cell_type": "code",
   "execution_count": 522,
   "id": "9302f1e6",
   "metadata": {},
   "outputs": [
    {
     "data": {
      "text/plain": [
       "<AxesSubplot:xlabel='#Order', ylabel='Sales'>"
      ]
     },
     "execution_count": 522,
     "metadata": {},
     "output_type": "execute_result"
    },
    {
     "data": {
      "image/png": "[encoded data removed]",
      "text/plain": [
       "<Figure size 576x432 with 1 Axes>"
      ]
     },
     "metadata": {
      "needs_background": "light"
     },
     "output_type": "display_data"
    }
   ],
   "source": [
    "sns.scatterplot(x=\"#Order\", y=\"Sales\", data=train) "
   ]
  },
  {
   "cell_type": "markdown",
   "id": "02292eb5",
   "metadata": {},
   "source": [
    "# If number if orders increasing sales also increasing"
   ]
  },
  {
   "cell_type": "code",
   "execution_count": 523,
   "id": "141ba75c",
   "metadata": {},
   "outputs": [],
   "source": [
    " #BUT Unfortunately Orders Column not present tets data"
   ]
  },
  {
   "cell_type": "code",
   "execution_count": 524,
   "id": "09779027",
   "metadata": {},
   "outputs": [
    {
     "data": {
      "text/plain": [
       "ID                object\n",
       "Store_id           int64\n",
       "Store_Type        object\n",
       "Location_Type     object\n",
       "Region_Code       object\n",
       "Date              object\n",
       "Holiday            int64\n",
       "Discount          object\n",
       "#Order             int64\n",
       "Sales            float64\n",
       "dtype: object"
      ]
     },
     "execution_count": 524,
     "metadata": {},
     "output_type": "execute_result"
    }
   ],
   "source": [
    "train.dtypes"
   ]
  },
  {
   "cell_type": "code",
   "execution_count": 525,
   "id": "06c5d40b",
   "metadata": {},
   "outputs": [
    {
     "data": {
      "text/plain": [
       "<AxesSubplot:xlabel='#Order', ylabel='Density'>"
      ]
     },
     "execution_count": 525,
     "metadata": {},
     "output_type": "execute_result"
    },
    {
     "data": {
      "image/png": "[encoded data removed]",
      "text/plain": [
       "<Figure size 576x432 with 1 Axes>"
      ]
     },
     "metadata": {
      "needs_background": "light"
     },
     "output_type": "display_data"
    }
   ],
   "source": [
    "sns.distplot(train['#Order'])"
   ]
  },
  {
   "cell_type": "code",
   "execution_count": 526,
   "id": "bf9d7be4",
   "metadata": {},
   "outputs": [
    {
     "data": {
      "text/plain": [
       "<AxesSubplot:xlabel='#Order'>"
      ]
     },
     "execution_count": 526,
     "metadata": {},
     "output_type": "execute_result"
    },
    {
     "data": {
      "image/png": "[encoded data removed]",
      "text/plain": [
       "<Figure size 576x432 with 1 Axes>"
      ]
     },
     "metadata": {
      "needs_background": "light"
     },
     "output_type": "display_data"
    }
   ],
   "source": [
    "sns.boxplot(train['#Order'])"
   ]
  },
  {
   "cell_type": "code",
   "execution_count": 527,
   "id": "f4ed5ca9",
   "metadata": {},
   "outputs": [
    {
     "data": {
      "text/plain": [
       "Index(['ID', 'Store_id', 'Store_Type', 'Location_Type', 'Region_Code', 'Date',\n",
       "       'Holiday', 'Discount', '#Order', 'Sales'],\n",
       "      dtype='object')"
      ]
     },
     "execution_count": 527,
     "metadata": {},
     "output_type": "execute_result"
    }
   ],
   "source": [
    "train.columns"
   ]
  },
  {
   "cell_type": "code",
   "execution_count": 528,
   "id": "70ee9ab8",
   "metadata": {},
   "outputs": [
    {
     "data": {
      "text/plain": [
       "count    182497.000000\n",
       "mean         65.320208\n",
       "std          25.577497\n",
       "min           0.000000\n",
       "25%          48.000000\n",
       "50%          62.000000\n",
       "75%          80.000000\n",
       "max         198.000000\n",
       "Name: #Order, dtype: float64"
      ]
     },
     "execution_count": 528,
     "metadata": {},
     "output_type": "execute_result"
    }
   ],
   "source": [
    "train['#Order'].describe()"
   ]
  },
  {
   "cell_type": "code",
   "execution_count": 472,
   "id": "518cfc7a",
   "metadata": {},
   "outputs": [],
   "source": [
    "# Outliers removal based on Orders Data"
   ]
  },
  {
   "cell_type": "code",
   "execution_count": 531,
   "id": "34e9d5ad",
   "metadata": {},
   "outputs": [
    {
     "name": "stdout",
     "output_type": "stream",
     "text": [
      "Old Shape (182497, 10)\n",
      "new Shape (181594, 10)\n"
     ]
    }
   ],
   "source": [
    "print ('Old Shape',train.shape)\n",
    "\n",
    "\n",
    "\n",
    "train = train[(train['#Order'] >= 8) & (df['#Order'] <= 300)]\n",
    "\n",
    "\n",
    "\n",
    "print ('new Shape',train.shape)"
   ]
  },
  {
   "cell_type": "code",
   "execution_count": 532,
   "id": "16149240",
   "metadata": {},
   "outputs": [
    {
     "data": {
      "text/plain": [
       "count    181594.000000\n",
       "mean         65.616805\n",
       "std          25.291754\n",
       "min           8.000000\n",
       "25%          48.000000\n",
       "50%          62.000000\n",
       "75%          80.000000\n",
       "max         198.000000\n",
       "Name: #Order, dtype: float64"
      ]
     },
     "execution_count": 532,
     "metadata": {},
     "output_type": "execute_result"
    }
   ],
   "source": [
    "train['#Order'].describe()"
   ]
  },
  {
   "cell_type": "code",
   "execution_count": 533,
   "id": "e1f6d869",
   "metadata": {},
   "outputs": [
    {
     "data": {
      "text/plain": [
       "<AxesSubplot:xlabel='#Order', ylabel='Density'>"
      ]
     },
     "execution_count": 533,
     "metadata": {},
     "output_type": "execute_result"
    },
    {
     "data": {
      "image/png": "[encoded data removed]",
      "text/plain": [
       "<Figure size 576x432 with 1 Axes>"
      ]
     },
     "metadata": {
      "needs_background": "light"
     },
     "output_type": "display_data"
    }
   ],
   "source": [
    "sns.distplot(df['#Order'])"
   ]
  },
  {
   "cell_type": "code",
   "execution_count": 340,
   "id": "46f2d654",
   "metadata": {},
   "outputs": [],
   "source": [
    "train = df.copy()"
   ]
  },
  {
   "cell_type": "code",
   "execution_count": 341,
   "id": "38c10571",
   "metadata": {},
   "outputs": [
    {
     "data": {
      "text/plain": [
       "(181594, 10)"
      ]
     },
     "execution_count": 341,
     "metadata": {},
     "output_type": "execute_result"
    }
   ],
   "source": [
    "train.shape"
   ]
  },
  {
   "cell_type": "code",
   "execution_count": 28,
   "id": "7bd46d75",
   "metadata": {},
   "outputs": [
    {
     "data": {
      "text/plain": [
       "Index(['ID', 'Store_id', 'Store_Type', 'Location_Type', 'Region_Code', 'Date',\n",
       "       'Holiday', 'Discount'],\n",
       "      dtype='object')"
      ]
     },
     "execution_count": 28,
     "metadata": {},
     "output_type": "execute_result"
    }
   ],
   "source": [
    "test.columns"
   ]
  },
  {
   "cell_type": "code",
   "execution_count": 534,
   "id": "99c31657",
   "metadata": {},
   "outputs": [],
   "source": [
    "from datetime import datetime\n",
    "from datetime import timedelta\n",
    "import holidays\n",
    "train['Date']= train['Date'].apply(lambda x : datetime.strptime(x, \"%Y-%m-%d\"))\n",
    "\n",
    "test['Date'] = test['Date'].apply(lambda x : datetime.strptime(x, \"%Y-%m-%d\"))"
   ]
  },
  {
   "cell_type": "code",
   "execution_count": 343,
   "id": "a2ae1a30",
   "metadata": {},
   "outputs": [
    {
     "data": {
      "text/html": [
       "<div>\n",
       "<style scoped>\n",
       "    .dataframe tbody tr th:only-of-type {\n",
       "        vertical-align: middle;\n",
       "    }\n",
       "\n",
       "    .dataframe tbody tr th {\n",
       "        vertical-align: top;\n",
       "    }\n",
       "\n",
       "    .dataframe thead th {\n",
       "        text-align: right;\n",
       "    }\n",
       "</style>\n",
       "<table border=\"1\" class=\"dataframe\">\n",
       "  <thead>\n",
       "    <tr style=\"text-align: right;\">\n",
       "      <th></th>\n",
       "      <th>ID</th>\n",
       "      <th>Store_id</th>\n",
       "      <th>Store_Type</th>\n",
       "      <th>Location_Type</th>\n",
       "      <th>Region_Code</th>\n",
       "      <th>Date</th>\n",
       "      <th>Holiday</th>\n",
       "      <th>Discount</th>\n",
       "      <th>#Order</th>\n",
       "      <th>Sales</th>\n",
       "    </tr>\n",
       "  </thead>\n",
       "  <tbody>\n",
       "    <tr>\n",
       "      <th>0</th>\n",
       "      <td>T1000001</td>\n",
       "      <td>1</td>\n",
       "      <td>S1</td>\n",
       "      <td>L3</td>\n",
       "      <td>R1</td>\n",
       "      <td>2018-01-01</td>\n",
       "      <td>1</td>\n",
       "      <td>Yes</td>\n",
       "      <td>9</td>\n",
       "      <td>7011.84</td>\n",
       "    </tr>\n",
       "    <tr>\n",
       "      <th>1</th>\n",
       "      <td>T1000002</td>\n",
       "      <td>253</td>\n",
       "      <td>S4</td>\n",
       "      <td>L2</td>\n",
       "      <td>R1</td>\n",
       "      <td>2018-01-01</td>\n",
       "      <td>1</td>\n",
       "      <td>Yes</td>\n",
       "      <td>60</td>\n",
       "      <td>51789.12</td>\n",
       "    </tr>\n",
       "    <tr>\n",
       "      <th>2</th>\n",
       "      <td>T1000003</td>\n",
       "      <td>252</td>\n",
       "      <td>S3</td>\n",
       "      <td>L2</td>\n",
       "      <td>R1</td>\n",
       "      <td>2018-01-01</td>\n",
       "      <td>1</td>\n",
       "      <td>Yes</td>\n",
       "      <td>42</td>\n",
       "      <td>36868.20</td>\n",
       "    </tr>\n",
       "    <tr>\n",
       "      <th>3</th>\n",
       "      <td>T1000004</td>\n",
       "      <td>251</td>\n",
       "      <td>S2</td>\n",
       "      <td>L3</td>\n",
       "      <td>R1</td>\n",
       "      <td>2018-01-01</td>\n",
       "      <td>1</td>\n",
       "      <td>Yes</td>\n",
       "      <td>23</td>\n",
       "      <td>19715.16</td>\n",
       "    </tr>\n",
       "    <tr>\n",
       "      <th>4</th>\n",
       "      <td>T1000005</td>\n",
       "      <td>250</td>\n",
       "      <td>S2</td>\n",
       "      <td>L3</td>\n",
       "      <td>R4</td>\n",
       "      <td>2018-01-01</td>\n",
       "      <td>1</td>\n",
       "      <td>Yes</td>\n",
       "      <td>62</td>\n",
       "      <td>45614.52</td>\n",
       "    </tr>\n",
       "  </tbody>\n",
       "</table>\n",
       "</div>"
      ],
      "text/plain": [
       "         ID  Store_id Store_Type Location_Type Region_Code       Date  \\\n",
       "0  T1000001         1         S1            L3          R1 2018-01-01   \n",
       "1  T1000002       253         S4            L2          R1 2018-01-01   \n",
       "2  T1000003       252         S3            L2          R1 2018-01-01   \n",
       "3  T1000004       251         S2            L3          R1 2018-01-01   \n",
       "4  T1000005       250         S2            L3          R4 2018-01-01   \n",
       "\n",
       "   Holiday Discount  #Order     Sales  \n",
       "0        1      Yes       9   7011.84  \n",
       "1        1      Yes      60  51789.12  \n",
       "2        1      Yes      42  36868.20  \n",
       "3        1      Yes      23  19715.16  \n",
       "4        1      Yes      62  45614.52  "
      ]
     },
     "execution_count": 343,
     "metadata": {},
     "output_type": "execute_result"
    }
   ],
   "source": [
    "train.head()"
   ]
  },
  {
   "cell_type": "markdown",
   "id": "613e43df",
   "metadata": {},
   "source": [
    "# Feature Engineering"
   ]
  },
  {
   "cell_type": "code",
   "execution_count": 535,
   "id": "7eb9fa18",
   "metadata": {},
   "outputs": [],
   "source": [
    "# From DATE Column Creating Different features like year month\n",
    "\n",
    "train['year'] = pd.DatetimeIndex(train['Date']).year\n",
    "train['month'] = pd.DatetimeIndex(train['Date']).month\n",
    "train['Day'] = pd.DatetimeIndex(train['Date']).day\n",
    "train['Quarter'] =  pd.DatetimeIndex(train['Date']).quarter\n",
    "\n",
    "test['year'] = pd.DatetimeIndex(test['Date']).year\n",
    "test['month'] = pd.DatetimeIndex(test['Date']).month\n",
    "test['Day'] = pd.DatetimeIndex(test['Date']).day\n",
    "test['Quarter'] =  pd.DatetimeIndex(test['Date']).quarter\n",
    "#train['week_of_Every_year'] =  pandas.DatetimeIndex(dataframe_to_be_provided[week_start_to_be_provided]).weekofyear\n"
   ]
  },
  {
   "cell_type": "code",
   "execution_count": 345,
   "id": "c0407a88",
   "metadata": {},
   "outputs": [
    {
     "data": {
      "text/html": [
       "<div>\n",
       "<style scoped>\n",
       "    .dataframe tbody tr th:only-of-type {\n",
       "        vertical-align: middle;\n",
       "    }\n",
       "\n",
       "    .dataframe tbody tr th {\n",
       "        vertical-align: top;\n",
       "    }\n",
       "\n",
       "    .dataframe thead th {\n",
       "        text-align: right;\n",
       "    }\n",
       "</style>\n",
       "<table border=\"1\" class=\"dataframe\">\n",
       "  <thead>\n",
       "    <tr style=\"text-align: right;\">\n",
       "      <th></th>\n",
       "      <th>ID</th>\n",
       "      <th>Store_id</th>\n",
       "      <th>Store_Type</th>\n",
       "      <th>Location_Type</th>\n",
       "      <th>Region_Code</th>\n",
       "      <th>Date</th>\n",
       "      <th>Holiday</th>\n",
       "      <th>Discount</th>\n",
       "      <th>#Order</th>\n",
       "      <th>Sales</th>\n",
       "      <th>year</th>\n",
       "      <th>month</th>\n",
       "      <th>Day</th>\n",
       "      <th>Quarter</th>\n",
       "    </tr>\n",
       "  </thead>\n",
       "  <tbody>\n",
       "    <tr>\n",
       "      <th>0</th>\n",
       "      <td>T1000001</td>\n",
       "      <td>1</td>\n",
       "      <td>S1</td>\n",
       "      <td>L3</td>\n",
       "      <td>R1</td>\n",
       "      <td>2018-01-01</td>\n",
       "      <td>1</td>\n",
       "      <td>Yes</td>\n",
       "      <td>9</td>\n",
       "      <td>7011.84</td>\n",
       "      <td>2018</td>\n",
       "      <td>1</td>\n",
       "      <td>1</td>\n",
       "      <td>1</td>\n",
       "    </tr>\n",
       "    <tr>\n",
       "      <th>1</th>\n",
       "      <td>T1000002</td>\n",
       "      <td>253</td>\n",
       "      <td>S4</td>\n",
       "      <td>L2</td>\n",
       "      <td>R1</td>\n",
       "      <td>2018-01-01</td>\n",
       "      <td>1</td>\n",
       "      <td>Yes</td>\n",
       "      <td>60</td>\n",
       "      <td>51789.12</td>\n",
       "      <td>2018</td>\n",
       "      <td>1</td>\n",
       "      <td>1</td>\n",
       "      <td>1</td>\n",
       "    </tr>\n",
       "    <tr>\n",
       "      <th>2</th>\n",
       "      <td>T1000003</td>\n",
       "      <td>252</td>\n",
       "      <td>S3</td>\n",
       "      <td>L2</td>\n",
       "      <td>R1</td>\n",
       "      <td>2018-01-01</td>\n",
       "      <td>1</td>\n",
       "      <td>Yes</td>\n",
       "      <td>42</td>\n",
       "      <td>36868.20</td>\n",
       "      <td>2018</td>\n",
       "      <td>1</td>\n",
       "      <td>1</td>\n",
       "      <td>1</td>\n",
       "    </tr>\n",
       "    <tr>\n",
       "      <th>3</th>\n",
       "      <td>T1000004</td>\n",
       "      <td>251</td>\n",
       "      <td>S2</td>\n",
       "      <td>L3</td>\n",
       "      <td>R1</td>\n",
       "      <td>2018-01-01</td>\n",
       "      <td>1</td>\n",
       "      <td>Yes</td>\n",
       "      <td>23</td>\n",
       "      <td>19715.16</td>\n",
       "      <td>2018</td>\n",
       "      <td>1</td>\n",
       "      <td>1</td>\n",
       "      <td>1</td>\n",
       "    </tr>\n",
       "    <tr>\n",
       "      <th>4</th>\n",
       "      <td>T1000005</td>\n",
       "      <td>250</td>\n",
       "      <td>S2</td>\n",
       "      <td>L3</td>\n",
       "      <td>R4</td>\n",
       "      <td>2018-01-01</td>\n",
       "      <td>1</td>\n",
       "      <td>Yes</td>\n",
       "      <td>62</td>\n",
       "      <td>45614.52</td>\n",
       "      <td>2018</td>\n",
       "      <td>1</td>\n",
       "      <td>1</td>\n",
       "      <td>1</td>\n",
       "    </tr>\n",
       "  </tbody>\n",
       "</table>\n",
       "</div>"
      ],
      "text/plain": [
       "         ID  Store_id Store_Type Location_Type Region_Code       Date  \\\n",
       "0  T1000001         1         S1            L3          R1 2018-01-01   \n",
       "1  T1000002       253         S4            L2          R1 2018-01-01   \n",
       "2  T1000003       252         S3            L2          R1 2018-01-01   \n",
       "3  T1000004       251         S2            L3          R1 2018-01-01   \n",
       "4  T1000005       250         S2            L3          R4 2018-01-01   \n",
       "\n",
       "   Holiday Discount  #Order     Sales  year  month  Day  Quarter  \n",
       "0        1      Yes       9   7011.84  2018      1    1        1  \n",
       "1        1      Yes      60  51789.12  2018      1    1        1  \n",
       "2        1      Yes      42  36868.20  2018      1    1        1  \n",
       "3        1      Yes      23  19715.16  2018      1    1        1  \n",
       "4        1      Yes      62  45614.52  2018      1    1        1  "
      ]
     },
     "execution_count": 345,
     "metadata": {},
     "output_type": "execute_result"
    }
   ],
   "source": [
    "train.head()"
   ]
  },
  {
   "cell_type": "code",
   "execution_count": 346,
   "id": "0e12f9ed",
   "metadata": {},
   "outputs": [
    {
     "data": {
      "text/plain": [
       "<AxesSubplot:xlabel='month', ylabel='Sales'>"
      ]
     },
     "execution_count": 346,
     "metadata": {},
     "output_type": "execute_result"
    },
    {
     "data": {
      "image/png": "[encoded data removed]",
      "text/plain": [
       "<Figure size 576x432 with 1 Axes>"
      ]
     },
     "metadata": {
      "needs_background": "light"
     },
     "output_type": "display_data"
    }
   ],
   "source": [
    "sns.scatterplot(x=\"month\", y=\"Sales\", data=train) "
   ]
  },
  {
   "cell_type": "code",
   "execution_count": 347,
   "id": "80911733",
   "metadata": {},
   "outputs": [
    {
     "data": {
      "text/plain": [
       "<AxesSubplot:xlabel='year', ylabel='Sales'>"
      ]
     },
     "execution_count": 347,
     "metadata": {},
     "output_type": "execute_result"
    },
    {
     "data": {
      "image/png": "[encoded data removed]",
      "text/plain": [
       "<Figure size 576x432 with 1 Axes>"
      ]
     },
     "metadata": {
      "needs_background": "light"
     },
     "output_type": "display_data"
    }
   ],
   "source": [
    "\n",
    "sns.scatterplot(x=\"year\", y=\"Sales\", data=train) "
   ]
  },
  {
   "cell_type": "code",
   "execution_count": 348,
   "id": "1868a9b2",
   "metadata": {},
   "outputs": [
    {
     "data": {
      "text/plain": [
       "<AxesSubplot:xlabel='Quarter', ylabel='Sales'>"
      ]
     },
     "execution_count": 348,
     "metadata": {},
     "output_type": "execute_result"
    },
    {
     "data": {
      "image/png": "[encoded data removed]",
      "text/plain": [
       "<Figure size 576x432 with 1 Axes>"
      ]
     },
     "metadata": {
      "needs_background": "light"
     },
     "output_type": "display_data"
    }
   ],
   "source": [
    "sns.scatterplot(x=\"Quarter\", y=\"Sales\", data=train) "
   ]
  },
  {
   "cell_type": "code",
   "execution_count": 349,
   "id": "a3af908c",
   "metadata": {},
   "outputs": [
    {
     "data": {
      "text/plain": [
       "<AxesSubplot:xlabel='Store_Type', ylabel='Sales'>"
      ]
     },
     "execution_count": 349,
     "metadata": {},
     "output_type": "execute_result"
    },
    {
     "data": {
      "image/png": "[encoded data removed]",
      "text/plain": [
       "<Figure size 576x432 with 1 Axes>"
      ]
     },
     "metadata": {
      "needs_background": "light"
     },
     "output_type": "display_data"
    }
   ],
   "source": [
    "sns.scatterplot(x=\"Store_Type\", y=\"Sales\", data=train) "
   ]
  },
  {
   "cell_type": "code",
   "execution_count": 403,
   "id": "1b73fd13",
   "metadata": {},
   "outputs": [
    {
     "name": "stdout",
     "output_type": "stream",
     "text": [
      "There are 8 numeric and 6 categorical columns in train data\n"
     ]
    },
    {
     "data": {
      "text/plain": [
       "<AxesSubplot:>"
      ]
     },
     "execution_count": 403,
     "metadata": {},
     "output_type": "execute_result"
    },
    {
     "data": {
      "image/png": "[encoded data removed]",
      "text/plain": [
       "<Figure size 576x432 with 2 Axes>"
      ]
     },
     "metadata": {
      "needs_background": "light"
     },
     "output_type": "display_data"
    }
   ],
   "source": [
    "#separate variables into new data frames\n",
    "numeric_data = train.select_dtypes(include=[np.number])\n",
    "cat_data = train.select_dtypes(exclude=[np.number])\n",
    "print (\"There are {} numeric and {} categorical columns in train data\".format(numeric_data.shape[1],cat_data.shape[1]))\n",
    "\n",
    "#correlation plot\n",
    "corr = numeric_data.corr()\n",
    "sns.heatmap(corr)"
   ]
  },
  {
   "cell_type": "code",
   "execution_count": 351,
   "id": "1693632e",
   "metadata": {},
   "outputs": [
    {
     "name": "stdout",
     "output_type": "stream",
     "text": [
      "Sales       1.000000\n",
      "#Order      0.924379\n",
      "year       -0.001424\n",
      "Store_id   -0.010880\n",
      "month      -0.011972\n",
      "Quarter    -0.015545\n",
      "Day        -0.038385\n",
      "Holiday    -0.146888\n",
      "Name: Sales, dtype: float64 \n",
      "\n"
     ]
    }
   ],
   "source": [
    "print (corr['Sales'].sort_values(ascending=False)[:15], '\\n')"
   ]
  },
  {
   "cell_type": "code",
   "execution_count": 352,
   "id": "c69449f5",
   "metadata": {},
   "outputs": [],
   "source": [
    "# Here We can see # order have more correalted with target variable ,but unfortunately #order not exixt in test data"
   ]
  },
  {
   "cell_type": "code",
   "execution_count": 353,
   "id": "3c0baa0d",
   "metadata": {},
   "outputs": [
    {
     "data": {
      "text/html": [
       "<div>\n",
       "<style scoped>\n",
       "    .dataframe tbody tr th:only-of-type {\n",
       "        vertical-align: middle;\n",
       "    }\n",
       "\n",
       "    .dataframe tbody tr th {\n",
       "        vertical-align: top;\n",
       "    }\n",
       "\n",
       "    .dataframe thead th {\n",
       "        text-align: right;\n",
       "    }\n",
       "</style>\n",
       "<table border=\"1\" class=\"dataframe\">\n",
       "  <thead>\n",
       "    <tr style=\"text-align: right;\">\n",
       "      <th></th>\n",
       "      <th>variables</th>\n",
       "      <th>VIF</th>\n",
       "    </tr>\n",
       "  </thead>\n",
       "  <tbody>\n",
       "    <tr>\n",
       "      <th>0</th>\n",
       "      <td>Store_id</td>\n",
       "      <td>1.069224</td>\n",
       "    </tr>\n",
       "    <tr>\n",
       "      <th>1</th>\n",
       "      <td>Holiday</td>\n",
       "      <td>1.305082</td>\n",
       "    </tr>\n",
       "    <tr>\n",
       "      <th>2</th>\n",
       "      <td>#Order</td>\n",
       "      <td>169.254230</td>\n",
       "    </tr>\n",
       "    <tr>\n",
       "      <th>3</th>\n",
       "      <td>Sales</td>\n",
       "      <td>171.106879</td>\n",
       "    </tr>\n",
       "    <tr>\n",
       "      <th>4</th>\n",
       "      <td>year</td>\n",
       "      <td>2.881699</td>\n",
       "    </tr>\n",
       "    <tr>\n",
       "      <th>5</th>\n",
       "      <td>month</td>\n",
       "      <td>1352.611553</td>\n",
       "    </tr>\n",
       "    <tr>\n",
       "      <th>6</th>\n",
       "      <td>Day</td>\n",
       "      <td>1.063770</td>\n",
       "    </tr>\n",
       "    <tr>\n",
       "      <th>7</th>\n",
       "      <td>Quarter</td>\n",
       "      <td>1328.503222</td>\n",
       "    </tr>\n",
       "  </tbody>\n",
       "</table>\n",
       "</div>"
      ],
      "text/plain": [
       "  variables          VIF\n",
       "0  Store_id     1.069224\n",
       "1   Holiday     1.305082\n",
       "2    #Order   169.254230\n",
       "3     Sales   171.106879\n",
       "4      year     2.881699\n",
       "5     month  1352.611553\n",
       "6       Day     1.063770\n",
       "7   Quarter  1328.503222"
      ]
     },
     "execution_count": 353,
     "metadata": {},
     "output_type": "execute_result"
    }
   ],
   "source": [
    "from statsmodels.stats.outliers_influence import variance_inflation_factor\n",
    "\n",
    "def calc_vif(X):\n",
    "\n",
    "    # Calculating VIF\n",
    "    vif = pd.DataFrame()\n",
    "    vif[\"variables\"] = X.columns\n",
    "    vif[\"VIF\"] = [variance_inflation_factor(X.values, i) for i in range(X.shape[1])]\n",
    "\n",
    "    return(vif)\n",
    "X = corr\n",
    "calc_vif(X)"
   ]
  },
  {
   "cell_type": "code",
   "execution_count": 354,
   "id": "660ce26d",
   "metadata": {},
   "outputs": [
    {
     "data": {
      "text/html": [
       "<div>\n",
       "<style scoped>\n",
       "    .dataframe tbody tr th:only-of-type {\n",
       "        vertical-align: middle;\n",
       "    }\n",
       "\n",
       "    .dataframe tbody tr th {\n",
       "        vertical-align: top;\n",
       "    }\n",
       "\n",
       "    .dataframe thead th {\n",
       "        text-align: right;\n",
       "    }\n",
       "</style>\n",
       "<table border=\"1\" class=\"dataframe\">\n",
       "  <thead>\n",
       "    <tr style=\"text-align: right;\">\n",
       "      <th></th>\n",
       "      <th>ID</th>\n",
       "      <th>Store_id</th>\n",
       "      <th>Store_Type</th>\n",
       "      <th>Location_Type</th>\n",
       "      <th>Region_Code</th>\n",
       "      <th>Date</th>\n",
       "      <th>Holiday</th>\n",
       "      <th>Discount</th>\n",
       "      <th>#Order</th>\n",
       "      <th>Sales</th>\n",
       "      <th>year</th>\n",
       "      <th>month</th>\n",
       "      <th>Day</th>\n",
       "      <th>Quarter</th>\n",
       "    </tr>\n",
       "  </thead>\n",
       "  <tbody>\n",
       "    <tr>\n",
       "      <th>0</th>\n",
       "      <td>T1000001</td>\n",
       "      <td>1</td>\n",
       "      <td>S1</td>\n",
       "      <td>L3</td>\n",
       "      <td>R1</td>\n",
       "      <td>2018-01-01</td>\n",
       "      <td>1</td>\n",
       "      <td>Yes</td>\n",
       "      <td>9</td>\n",
       "      <td>7011.84</td>\n",
       "      <td>2018</td>\n",
       "      <td>1</td>\n",
       "      <td>1</td>\n",
       "      <td>1</td>\n",
       "    </tr>\n",
       "    <tr>\n",
       "      <th>1</th>\n",
       "      <td>T1000002</td>\n",
       "      <td>253</td>\n",
       "      <td>S4</td>\n",
       "      <td>L2</td>\n",
       "      <td>R1</td>\n",
       "      <td>2018-01-01</td>\n",
       "      <td>1</td>\n",
       "      <td>Yes</td>\n",
       "      <td>60</td>\n",
       "      <td>51789.12</td>\n",
       "      <td>2018</td>\n",
       "      <td>1</td>\n",
       "      <td>1</td>\n",
       "      <td>1</td>\n",
       "    </tr>\n",
       "    <tr>\n",
       "      <th>2</th>\n",
       "      <td>T1000003</td>\n",
       "      <td>252</td>\n",
       "      <td>S3</td>\n",
       "      <td>L2</td>\n",
       "      <td>R1</td>\n",
       "      <td>2018-01-01</td>\n",
       "      <td>1</td>\n",
       "      <td>Yes</td>\n",
       "      <td>42</td>\n",
       "      <td>36868.20</td>\n",
       "      <td>2018</td>\n",
       "      <td>1</td>\n",
       "      <td>1</td>\n",
       "      <td>1</td>\n",
       "    </tr>\n",
       "    <tr>\n",
       "      <th>3</th>\n",
       "      <td>T1000004</td>\n",
       "      <td>251</td>\n",
       "      <td>S2</td>\n",
       "      <td>L3</td>\n",
       "      <td>R1</td>\n",
       "      <td>2018-01-01</td>\n",
       "      <td>1</td>\n",
       "      <td>Yes</td>\n",
       "      <td>23</td>\n",
       "      <td>19715.16</td>\n",
       "      <td>2018</td>\n",
       "      <td>1</td>\n",
       "      <td>1</td>\n",
       "      <td>1</td>\n",
       "    </tr>\n",
       "    <tr>\n",
       "      <th>4</th>\n",
       "      <td>T1000005</td>\n",
       "      <td>250</td>\n",
       "      <td>S2</td>\n",
       "      <td>L3</td>\n",
       "      <td>R4</td>\n",
       "      <td>2018-01-01</td>\n",
       "      <td>1</td>\n",
       "      <td>Yes</td>\n",
       "      <td>62</td>\n",
       "      <td>45614.52</td>\n",
       "      <td>2018</td>\n",
       "      <td>1</td>\n",
       "      <td>1</td>\n",
       "      <td>1</td>\n",
       "    </tr>\n",
       "  </tbody>\n",
       "</table>\n",
       "</div>"
      ],
      "text/plain": [
       "         ID  Store_id Store_Type Location_Type Region_Code       Date  \\\n",
       "0  T1000001         1         S1            L3          R1 2018-01-01   \n",
       "1  T1000002       253         S4            L2          R1 2018-01-01   \n",
       "2  T1000003       252         S3            L2          R1 2018-01-01   \n",
       "3  T1000004       251         S2            L3          R1 2018-01-01   \n",
       "4  T1000005       250         S2            L3          R4 2018-01-01   \n",
       "\n",
       "   Holiday Discount  #Order     Sales  year  month  Day  Quarter  \n",
       "0        1      Yes       9   7011.84  2018      1    1        1  \n",
       "1        1      Yes      60  51789.12  2018      1    1        1  \n",
       "2        1      Yes      42  36868.20  2018      1    1        1  \n",
       "3        1      Yes      23  19715.16  2018      1    1        1  \n",
       "4        1      Yes      62  45614.52  2018      1    1        1  "
      ]
     },
     "execution_count": 354,
     "metadata": {},
     "output_type": "execute_result"
    }
   ],
   "source": [
    "train.head()"
   ]
  },
  {
   "cell_type": "code",
   "execution_count": 355,
   "id": "2fbdada2",
   "metadata": {},
   "outputs": [
    {
     "data": {
      "text/html": [
       "<div>\n",
       "<style scoped>\n",
       "    .dataframe tbody tr th:only-of-type {\n",
       "        vertical-align: middle;\n",
       "    }\n",
       "\n",
       "    .dataframe tbody tr th {\n",
       "        vertical-align: top;\n",
       "    }\n",
       "\n",
       "    .dataframe thead th {\n",
       "        text-align: right;\n",
       "    }\n",
       "</style>\n",
       "<table border=\"1\" class=\"dataframe\">\n",
       "  <thead>\n",
       "    <tr style=\"text-align: right;\">\n",
       "      <th></th>\n",
       "      <th>ID</th>\n",
       "      <th>Store_id</th>\n",
       "      <th>Store_Type</th>\n",
       "      <th>Location_Type</th>\n",
       "      <th>Region_Code</th>\n",
       "      <th>Date</th>\n",
       "      <th>Holiday</th>\n",
       "      <th>Discount</th>\n",
       "      <th>year</th>\n",
       "      <th>month</th>\n",
       "      <th>Day</th>\n",
       "      <th>Quarter</th>\n",
       "    </tr>\n",
       "  </thead>\n",
       "  <tbody>\n",
       "    <tr>\n",
       "      <th>0</th>\n",
       "      <td>T1188341</td>\n",
       "      <td>171</td>\n",
       "      <td>S4</td>\n",
       "      <td>L2</td>\n",
       "      <td>R3</td>\n",
       "      <td>2019-06-01</td>\n",
       "      <td>0</td>\n",
       "      <td>No</td>\n",
       "      <td>2019</td>\n",
       "      <td>6</td>\n",
       "      <td>1</td>\n",
       "      <td>2</td>\n",
       "    </tr>\n",
       "    <tr>\n",
       "      <th>1</th>\n",
       "      <td>T1188342</td>\n",
       "      <td>172</td>\n",
       "      <td>S1</td>\n",
       "      <td>L1</td>\n",
       "      <td>R1</td>\n",
       "      <td>2019-06-01</td>\n",
       "      <td>0</td>\n",
       "      <td>No</td>\n",
       "      <td>2019</td>\n",
       "      <td>6</td>\n",
       "      <td>1</td>\n",
       "      <td>2</td>\n",
       "    </tr>\n",
       "    <tr>\n",
       "      <th>2</th>\n",
       "      <td>T1188343</td>\n",
       "      <td>173</td>\n",
       "      <td>S4</td>\n",
       "      <td>L2</td>\n",
       "      <td>R1</td>\n",
       "      <td>2019-06-01</td>\n",
       "      <td>0</td>\n",
       "      <td>No</td>\n",
       "      <td>2019</td>\n",
       "      <td>6</td>\n",
       "      <td>1</td>\n",
       "      <td>2</td>\n",
       "    </tr>\n",
       "    <tr>\n",
       "      <th>3</th>\n",
       "      <td>T1188344</td>\n",
       "      <td>174</td>\n",
       "      <td>S1</td>\n",
       "      <td>L1</td>\n",
       "      <td>R4</td>\n",
       "      <td>2019-06-01</td>\n",
       "      <td>0</td>\n",
       "      <td>No</td>\n",
       "      <td>2019</td>\n",
       "      <td>6</td>\n",
       "      <td>1</td>\n",
       "      <td>2</td>\n",
       "    </tr>\n",
       "    <tr>\n",
       "      <th>4</th>\n",
       "      <td>T1188345</td>\n",
       "      <td>170</td>\n",
       "      <td>S1</td>\n",
       "      <td>L1</td>\n",
       "      <td>R2</td>\n",
       "      <td>2019-06-01</td>\n",
       "      <td>0</td>\n",
       "      <td>No</td>\n",
       "      <td>2019</td>\n",
       "      <td>6</td>\n",
       "      <td>1</td>\n",
       "      <td>2</td>\n",
       "    </tr>\n",
       "  </tbody>\n",
       "</table>\n",
       "</div>"
      ],
      "text/plain": [
       "         ID  Store_id Store_Type Location_Type Region_Code       Date  \\\n",
       "0  T1188341       171         S4            L2          R3 2019-06-01   \n",
       "1  T1188342       172         S1            L1          R1 2019-06-01   \n",
       "2  T1188343       173         S4            L2          R1 2019-06-01   \n",
       "3  T1188344       174         S1            L1          R4 2019-06-01   \n",
       "4  T1188345       170         S1            L1          R2 2019-06-01   \n",
       "\n",
       "   Holiday Discount  year  month  Day  Quarter  \n",
       "0        0       No  2019      6    1        2  \n",
       "1        0       No  2019      6    1        2  \n",
       "2        0       No  2019      6    1        2  \n",
       "3        0       No  2019      6    1        2  \n",
       "4        0       No  2019      6    1        2  "
      ]
     },
     "execution_count": 355,
     "metadata": {},
     "output_type": "execute_result"
    }
   ],
   "source": [
    "test.head()"
   ]
  },
  {
   "cell_type": "code",
   "execution_count": 362,
   "id": "b1738f6d",
   "metadata": {},
   "outputs": [
    {
     "data": {
      "text/html": [
       "<div>\n",
       "<style scoped>\n",
       "    .dataframe tbody tr th:only-of-type {\n",
       "        vertical-align: middle;\n",
       "    }\n",
       "\n",
       "    .dataframe tbody tr th {\n",
       "        vertical-align: top;\n",
       "    }\n",
       "\n",
       "    .dataframe thead th {\n",
       "        text-align: right;\n",
       "    }\n",
       "</style>\n",
       "<table border=\"1\" class=\"dataframe\">\n",
       "  <thead>\n",
       "    <tr style=\"text-align: right;\">\n",
       "      <th></th>\n",
       "      <th></th>\n",
       "      <th></th>\n",
       "      <th>#Order</th>\n",
       "      <th>Sales</th>\n",
       "    </tr>\n",
       "    <tr>\n",
       "      <th>Location_Type</th>\n",
       "      <th>Region_Code</th>\n",
       "      <th>Store_Type</th>\n",
       "      <th></th>\n",
       "      <th></th>\n",
       "    </tr>\n",
       "  </thead>\n",
       "  <tbody>\n",
       "    <tr>\n",
       "      <th rowspan=\"16\" valign=\"top\">L1</th>\n",
       "      <th rowspan=\"4\" valign=\"top\">R1</th>\n",
       "      <th>S1</th>\n",
       "      <td>57.742814</td>\n",
       "      <td>38077.440003</td>\n",
       "    </tr>\n",
       "    <tr>\n",
       "      <th>S2</th>\n",
       "      <td>45.236275</td>\n",
       "      <td>33280.881324</td>\n",
       "    </tr>\n",
       "    <tr>\n",
       "      <th>S3</th>\n",
       "      <td>72.825971</td>\n",
       "      <td>42707.612597</td>\n",
       "    </tr>\n",
       "    <tr>\n",
       "      <th>S4</th>\n",
       "      <td>89.168568</td>\n",
       "      <td>49414.298297</td>\n",
       "    </tr>\n",
       "    <tr>\n",
       "      <th rowspan=\"4\" valign=\"top\">R2</th>\n",
       "      <th>S1</th>\n",
       "      <td>59.746890</td>\n",
       "      <td>38917.284151</td>\n",
       "    </tr>\n",
       "    <tr>\n",
       "      <th>S2</th>\n",
       "      <td>44.444735</td>\n",
       "      <td>33216.595213</td>\n",
       "    </tr>\n",
       "    <tr>\n",
       "      <th>S3</th>\n",
       "      <td>71.574986</td>\n",
       "      <td>45215.293447</td>\n",
       "    </tr>\n",
       "    <tr>\n",
       "      <th>S4</th>\n",
       "      <td>89.021768</td>\n",
       "      <td>51812.226708</td>\n",
       "    </tr>\n",
       "    <tr>\n",
       "      <th rowspan=\"4\" valign=\"top\">R3</th>\n",
       "      <th>S1</th>\n",
       "      <td>59.383832</td>\n",
       "      <td>40048.626357</td>\n",
       "    </tr>\n",
       "    <tr>\n",
       "      <th>S2</th>\n",
       "      <td>42.950980</td>\n",
       "      <td>31222.794706</td>\n",
       "    </tr>\n",
       "    <tr>\n",
       "      <th>S3</th>\n",
       "      <td>72.909628</td>\n",
       "      <td>45001.652179</td>\n",
       "    </tr>\n",
       "    <tr>\n",
       "      <th>S4</th>\n",
       "      <td>87.365347</td>\n",
       "      <td>49201.316733</td>\n",
       "    </tr>\n",
       "    <tr>\n",
       "      <th rowspan=\"4\" valign=\"top\">R4</th>\n",
       "      <th>S1</th>\n",
       "      <td>56.169246</td>\n",
       "      <td>38403.268639</td>\n",
       "    </tr>\n",
       "    <tr>\n",
       "      <th>S2</th>\n",
       "      <td>46.221135</td>\n",
       "      <td>33952.383728</td>\n",
       "    </tr>\n",
       "    <tr>\n",
       "      <th>S3</th>\n",
       "      <td>71.391304</td>\n",
       "      <td>46062.606937</td>\n",
       "    </tr>\n",
       "    <tr>\n",
       "      <th>S4</th>\n",
       "      <td>94.737374</td>\n",
       "      <td>54172.789273</td>\n",
       "    </tr>\n",
       "    <tr>\n",
       "      <th rowspan=\"12\" valign=\"top\">L2</th>\n",
       "      <th rowspan=\"3\" valign=\"top\">R1</th>\n",
       "      <th>S1</th>\n",
       "      <td>64.250988</td>\n",
       "      <td>45060.073814</td>\n",
       "    </tr>\n",
       "    <tr>\n",
       "      <th>S3</th>\n",
       "      <td>71.746867</td>\n",
       "      <td>50606.575068</td>\n",
       "    </tr>\n",
       "    <tr>\n",
       "      <th>S4</th>\n",
       "      <td>103.516503</td>\n",
       "      <td>58758.513641</td>\n",
       "    </tr>\n",
       "    <tr>\n",
       "      <th rowspan=\"3\" valign=\"top\">R2</th>\n",
       "      <th>S1</th>\n",
       "      <td>64.559300</td>\n",
       "      <td>46960.735639</td>\n",
       "    </tr>\n",
       "    <tr>\n",
       "      <th>S3</th>\n",
       "      <td>73.348932</td>\n",
       "      <td>52253.790305</td>\n",
       "    </tr>\n",
       "    <tr>\n",
       "      <th>S4</th>\n",
       "      <td>95.534541</td>\n",
       "      <td>56667.923637</td>\n",
       "    </tr>\n",
       "    <tr>\n",
       "      <th rowspan=\"3\" valign=\"top\">R3</th>\n",
       "      <th>S1</th>\n",
       "      <td>64.458126</td>\n",
       "      <td>47359.536491</td>\n",
       "    </tr>\n",
       "    <tr>\n",
       "      <th>S3</th>\n",
       "      <td>74.324541</td>\n",
       "      <td>50648.072744</td>\n",
       "    </tr>\n",
       "    <tr>\n",
       "      <th>S4</th>\n",
       "      <td>87.215494</td>\n",
       "      <td>55045.911996</td>\n",
       "    </tr>\n",
       "    <tr>\n",
       "      <th rowspan=\"3\" valign=\"top\">R4</th>\n",
       "      <th>S1</th>\n",
       "      <td>64.541069</td>\n",
       "      <td>47443.250437</td>\n",
       "    </tr>\n",
       "    <tr>\n",
       "      <th>S3</th>\n",
       "      <td>72.796887</td>\n",
       "      <td>50701.882398</td>\n",
       "    </tr>\n",
       "    <tr>\n",
       "      <th>S4</th>\n",
       "      <td>90.903315</td>\n",
       "      <td>55453.829718</td>\n",
       "    </tr>\n",
       "    <tr>\n",
       "      <th rowspan=\"10\" valign=\"top\">L3</th>\n",
       "      <th rowspan=\"3\" valign=\"top\">R1</th>\n",
       "      <th>S1</th>\n",
       "      <td>59.191892</td>\n",
       "      <td>34580.689874</td>\n",
       "    </tr>\n",
       "    <tr>\n",
       "      <th>S2</th>\n",
       "      <td>46.257367</td>\n",
       "      <td>31552.299784</td>\n",
       "    </tr>\n",
       "    <tr>\n",
       "      <th>S3</th>\n",
       "      <td>73.022610</td>\n",
       "      <td>39184.321589</td>\n",
       "    </tr>\n",
       "    <tr>\n",
       "      <th rowspan=\"2\" valign=\"top\">R2</th>\n",
       "      <th>S1</th>\n",
       "      <td>57.106348</td>\n",
       "      <td>34574.485460</td>\n",
       "    </tr>\n",
       "    <tr>\n",
       "      <th>S2</th>\n",
       "      <td>44.641709</td>\n",
       "      <td>30142.872301</td>\n",
       "    </tr>\n",
       "    <tr>\n",
       "      <th rowspan=\"3\" valign=\"top\">R3</th>\n",
       "      <th>S1</th>\n",
       "      <td>52.955483</td>\n",
       "      <td>33431.993844</td>\n",
       "    </tr>\n",
       "    <tr>\n",
       "      <th>S2</th>\n",
       "      <td>41.357883</td>\n",
       "      <td>29768.567356</td>\n",
       "    </tr>\n",
       "    <tr>\n",
       "      <th>S3</th>\n",
       "      <td>70.986434</td>\n",
       "      <td>39500.716337</td>\n",
       "    </tr>\n",
       "    <tr>\n",
       "      <th rowspan=\"2\" valign=\"top\">R4</th>\n",
       "      <th>S1</th>\n",
       "      <td>55.634766</td>\n",
       "      <td>34565.235996</td>\n",
       "    </tr>\n",
       "    <tr>\n",
       "      <th>S2</th>\n",
       "      <td>41.552157</td>\n",
       "      <td>29395.938188</td>\n",
       "    </tr>\n",
       "    <tr>\n",
       "      <th rowspan=\"6\" valign=\"top\">L4</th>\n",
       "      <th>R1</th>\n",
       "      <th>S1</th>\n",
       "      <td>55.705137</td>\n",
       "      <td>31683.308573</td>\n",
       "    </tr>\n",
       "    <tr>\n",
       "      <th rowspan=\"2\" valign=\"top\">R2</th>\n",
       "      <th>S1</th>\n",
       "      <td>52.066450</td>\n",
       "      <td>30239.905876</td>\n",
       "    </tr>\n",
       "    <tr>\n",
       "      <th>S2</th>\n",
       "      <td>41.217647</td>\n",
       "      <td>27260.737706</td>\n",
       "    </tr>\n",
       "    <tr>\n",
       "      <th rowspan=\"2\" valign=\"top\">R3</th>\n",
       "      <th>S1</th>\n",
       "      <td>49.901757</td>\n",
       "      <td>30248.939766</td>\n",
       "    </tr>\n",
       "    <tr>\n",
       "      <th>S2</th>\n",
       "      <td>41.035294</td>\n",
       "      <td>27985.257588</td>\n",
       "    </tr>\n",
       "    <tr>\n",
       "      <th>R4</th>\n",
       "      <th>S2</th>\n",
       "      <td>36.824510</td>\n",
       "      <td>25798.952912</td>\n",
       "    </tr>\n",
       "    <tr>\n",
       "      <th rowspan=\"6\" valign=\"top\">L5</th>\n",
       "      <th rowspan=\"2\" valign=\"top\">R1</th>\n",
       "      <th>S1</th>\n",
       "      <td>58.465467</td>\n",
       "      <td>30494.698789</td>\n",
       "    </tr>\n",
       "    <tr>\n",
       "      <th>S2</th>\n",
       "      <td>37.749325</td>\n",
       "      <td>23217.036409</td>\n",
       "    </tr>\n",
       "    <tr>\n",
       "      <th rowspan=\"2\" valign=\"top\">R2</th>\n",
       "      <th>S1</th>\n",
       "      <td>49.770033</td>\n",
       "      <td>28089.335296</td>\n",
       "    </tr>\n",
       "    <tr>\n",
       "      <th>S2</th>\n",
       "      <td>38.562051</td>\n",
       "      <td>24562.726009</td>\n",
       "    </tr>\n",
       "    <tr>\n",
       "      <th>R3</th>\n",
       "      <th>S2</th>\n",
       "      <td>37.532811</td>\n",
       "      <td>24124.920176</td>\n",
       "    </tr>\n",
       "    <tr>\n",
       "      <th>R4</th>\n",
       "      <th>S2</th>\n",
       "      <td>37.398529</td>\n",
       "      <td>24505.460000</td>\n",
       "    </tr>\n",
       "  </tbody>\n",
       "</table>\n",
       "</div>"
      ],
      "text/plain": [
       "                                          #Order         Sales\n",
       "Location_Type Region_Code Store_Type                          \n",
       "L1            R1          S1           57.742814  38077.440003\n",
       "                          S2           45.236275  33280.881324\n",
       "                          S3           72.825971  42707.612597\n",
       "                          S4           89.168568  49414.298297\n",
       "              R2          S1           59.746890  38917.284151\n",
       "                          S2           44.444735  33216.595213\n",
       "                          S3           71.574986  45215.293447\n",
       "                          S4           89.021768  51812.226708\n",
       "              R3          S1           59.383832  40048.626357\n",
       "                          S2           42.950980  31222.794706\n",
       "                          S3           72.909628  45001.652179\n",
       "                          S4           87.365347  49201.316733\n",
       "              R4          S1           56.169246  38403.268639\n",
       "                          S2           46.221135  33952.383728\n",
       "                          S3           71.391304  46062.606937\n",
       "                          S4           94.737374  54172.789273\n",
       "L2            R1          S1           64.250988  45060.073814\n",
       "                          S3           71.746867  50606.575068\n",
       "                          S4          103.516503  58758.513641\n",
       "              R2          S1           64.559300  46960.735639\n",
       "                          S3           73.348932  52253.790305\n",
       "                          S4           95.534541  56667.923637\n",
       "              R3          S1           64.458126  47359.536491\n",
       "                          S3           74.324541  50648.072744\n",
       "                          S4           87.215494  55045.911996\n",
       "              R4          S1           64.541069  47443.250437\n",
       "                          S3           72.796887  50701.882398\n",
       "                          S4           90.903315  55453.829718\n",
       "L3            R1          S1           59.191892  34580.689874\n",
       "                          S2           46.257367  31552.299784\n",
       "                          S3           73.022610  39184.321589\n",
       "              R2          S1           57.106348  34574.485460\n",
       "                          S2           44.641709  30142.872301\n",
       "              R3          S1           52.955483  33431.993844\n",
       "                          S2           41.357883  29768.567356\n",
       "                          S3           70.986434  39500.716337\n",
       "              R4          S1           55.634766  34565.235996\n",
       "                          S2           41.552157  29395.938188\n",
       "L4            R1          S1           55.705137  31683.308573\n",
       "              R2          S1           52.066450  30239.905876\n",
       "                          S2           41.217647  27260.737706\n",
       "              R3          S1           49.901757  30248.939766\n",
       "                          S2           41.035294  27985.257588\n",
       "              R4          S2           36.824510  25798.952912\n",
       "L5            R1          S1           58.465467  30494.698789\n",
       "                          S2           37.749325  23217.036409\n",
       "              R2          S1           49.770033  28089.335296\n",
       "                          S2           38.562051  24562.726009\n",
       "              R3          S2           37.532811  24124.920176\n",
       "              R4          S2           37.398529  24505.460000"
      ]
     },
     "execution_count": 362,
     "metadata": {},
     "output_type": "execute_result"
    }
   ],
   "source": [
    "grouped_df = train.groupby(['Location_Type','Region_Code','Store_Type'])\n",
    "\n",
    "final = grouped_df[['#Order','Sales']].agg('mean')\n",
    "final"
   ]
  },
  {
   "cell_type": "markdown",
   "id": "48250d91",
   "metadata": {},
   "source": [
    "# Based on Location & Region ,Store type Imputing New column in both train test data"
   ]
  },
  {
   "cell_type": "code",
   "execution_count": 421,
   "id": "9c363e17",
   "metadata": {},
   "outputs": [],
   "source": [
    "train['Avg_Order'] = 0\n",
    "\n",
    "test['Avg_Order'] = 0\n",
    "\n",
    "train['Avg_Order'].loc[(train['Location_Type'] == 'L1') & (train['Region_Code'] == 'R1') &(train['Store_Type']  == 'S1')]= 57\n",
    "\n",
    "test['Avg_Order'].loc[(test['Location_Type'] == 'L1') & (test['Region_Code'] == 'R1') &(test['Store_Type']  == 'S1')]= 57\n",
    "\n",
    "train['Avg_Order'].loc[(train['Location_Type'] == 'L1') & (train['Region_Code'] == 'R1') &(train['Store_Type']  == 'S2')]= 44\n",
    "\n",
    "test['Avg_Order'].loc[(test['Location_Type'] == 'L1') & (test['Region_Code'] == 'R1') &(test['Store_Type']  == 'S2')]= 44\n",
    "\n",
    "train['Avg_Order'].loc[(train['Location_Type'] == 'L1') & (train['Region_Code'] == 'R1') &(train['Store_Type']  == 'S3')]= 72\n",
    "\n",
    "test['Avg_Order'].loc[(test['Location_Type'] == 'L1') & (test['Region_Code'] == 'R1') &(test['Store_Type']  == 'S3')]= 72\n",
    "\n",
    "train['Avg_Order'].loc[(train['Location_Type'] == 'L1') & (train['Region_Code'] == 'R1') &(train['Store_Type']  == 'S4')]= 88\n",
    "\n",
    "test['Avg_Order'].loc[(test['Location_Type'] == 'L1') & (test['Region_Code'] == 'R1') &(test['Store_Type']  == 'S4')]= 88\n",
    "\n",
    "\n",
    "\n",
    "##\n",
    "train['Avg_Order'].loc[(train['Location_Type'] == 'L1') & (train['Region_Code'] == 'R2') &(train['Store_Type']  == 'S1')]= 59\n",
    "\n",
    "test['Avg_Order'].loc[(test['Location_Type'] == 'L1') & (test['Region_Code'] == 'R2') &(test['Store_Type']  == 'S1')]= 59\n",
    "\n",
    "train['Avg_Order'].loc[(train['Location_Type'] == 'L1') & (train['Region_Code'] == 'R2') &(train['Store_Type']  == 'S2')]= 44\n",
    "\n",
    "test['Avg_Order'].loc[(test['Location_Type'] == 'L1') & (test['Region_Code'] == 'R2') &(test['Store_Type']  == 'S2')]= 44\n",
    "\n",
    "train['Avg_Order'].loc[(train['Location_Type'] == 'L1') & (train['Region_Code'] == 'R2') &(train['Store_Type']  == 'S3')]=  71\n",
    "\n",
    "test['Avg_Order'].loc[(test['Location_Type'] == 'L1') & (test['Region_Code'] == 'R2') &(test['Store_Type']  == 'S2')]= 71\n",
    "\n",
    "train['Avg_Order'].loc[(train['Location_Type'] == 'L1') & (train['Region_Code'] == 'R2') &(train['Store_Type']  == 'S4')]=  88\n",
    "\n",
    "test['Avg_Order'].loc[(test['Location_Type'] == 'L1') & (test['Region_Code'] == 'R2') &(test['Store_Type']  == 'S4')]= 88\n",
    "\n",
    "\n",
    "##\n",
    "train['Avg_Order'].loc[(train['Location_Type'] == 'L1') & (train['Region_Code'] == 'R3') &(train['Store_Type']  == 'S1')]=   59\n",
    "\n",
    "test['Avg_Order'].loc[(test['Location_Type'] == 'L1') & (test['Region_Code'] == 'R3') &(test['Store_Type']  == 'S1')]= 59\n",
    "\n",
    "train['Avg_Order'].loc[(train['Location_Type'] == 'L1') & (train['Region_Code'] == 'R3') &(train['Store_Type']  == 'S2')]=  42\n",
    "\n",
    "test['Avg_Order'].loc[(test['Location_Type'] == 'L1') & (test['Region_Code'] == 'R3') &(test['Store_Type']  == 'S2')]= 42\n",
    "\n",
    "train['Avg_Order'].loc[(train['Location_Type'] == 'L1') & (train['Region_Code'] == 'R3') &(train['Store_Type']  == 'S3')]=  73\n",
    "\n",
    "test['Avg_Order'].loc[(test['Location_Type'] == 'L1') & (test['Region_Code'] == 'R3') &(test['Store_Type']  == 'S3')]= 73\n",
    "\n",
    "train['Avg_Order'].loc[(train['Location_Type'] == 'L1') & (train['Region_Code'] == 'R3') &(train['Store_Type']  == 'S4')]=  86\n",
    "\n",
    "test['Avg_Order'].loc[(test['Location_Type'] == 'L1') & (test['Region_Code'] == 'R3') &(test['Store_Type']  == 'S4')]= 86\n",
    "\n",
    "\n",
    "\n",
    "######\n",
    "\n",
    "train['Avg_Order'].loc[(train['Location_Type'] == 'L1') & (train['Region_Code'] == 'R4') &(train['Store_Type']  == 'S1')]=   56\n",
    "\n",
    "test['Avg_Order'].loc[(test['Location_Type'] == 'L1') & (test['Region_Code'] == 'R4') &(test['Store_Type']  == 'S1')]= 56\n",
    "\n",
    "train['Avg_Order'].loc[(train['Location_Type'] == 'L1') & (train['Region_Code'] == 'R4') &(train['Store_Type']  == 'S2')]=  46\n",
    "\n",
    "test['Avg_Order'].loc[(test['Location_Type'] == 'L1') & (test['Region_Code'] == 'R4') &(test['Store_Type']  == 'S2')]= 46\n",
    "\n",
    "train['Avg_Order'].loc[(train['Location_Type'] == 'L1') & (train['Region_Code'] == 'R4') &(train['Store_Type']  == 'S3')]=  71\n",
    "\n",
    "test['Avg_Order'].loc[(test['Location_Type'] == 'L1') & (test['Region_Code'] == 'R4') &(test['Store_Type']  == 'S3')]= 71\n",
    "\n",
    "train['Avg_Order'].loc[(train['Location_Type'] == 'L1') & (train['Region_Code'] == 'R4') &(train['Store_Type']  == 'S4')]=  94\n",
    "\n",
    "test['Avg_Order'].loc[(test['Location_Type'] == 'L1') & (test['Region_Code'] == 'R4') &(test['Store_Type']  == 'S4')]= 94\n",
    "\n",
    "\n",
    "######\n",
    "\n",
    "train['Avg_Order'].loc[(train['Location_Type'] == 'L2') & (train['Region_Code'] == 'R1') &(train['Store_Type']  == 'S1')]=   64\n",
    "\n",
    "test['Avg_Order'].loc[(test['Location_Type'] == 'L2') & (test['Region_Code'] == 'R1') &(test['Store_Type']  == 'S1')]= 64\n",
    "\n",
    "#train['Avg_Order'].loc[(train['Location_Type'] == 'L2') & (train['Region_Code'] == 'R1') &(train['Store_Type']  == 'S2')]=  \n",
    "\n",
    "#test['Avg_Order'].loc[(test['Location_Type'] == 'L2') & (test['Region_Code'] == 'R1') &(test['Store_Type']  == 'S2')]= \n",
    "\n",
    "train['Avg_Order'].loc[(train['Location_Type'] == 'L2') & (train['Region_Code'] == 'R1') &(train['Store_Type']  == 'S3')]=  71 \n",
    "\n",
    "test['Avg_Order'].loc[(test['Location_Type'] == 'L2') & (test['Region_Code'] == 'R1') &(test['Store_Type']  == 'S3')]= 71\n",
    "\n",
    "train['Avg_Order'].loc[(train['Location_Type'] == 'L2') & (train['Region_Code'] == 'R1') &(train['Store_Type']  == 'S4')]=   103 \n",
    "\n",
    "test ['Avg_Order'].loc[(test['Location_Type'] == 'L2') & (test['Region_Code'] == 'R1') &(test['Store_Type']  == 'S4')]= 103\n",
    "\n",
    "\n",
    "##\n",
    "train['Avg_Order'].loc[(train['Location_Type'] == 'L2') & (train['Region_Code'] == 'R2') &(train['Store_Type']  == 'S1')]=   64\n",
    "\n",
    "test['Avg_Order'].loc[(test['Location_Type'] == 'L2') & (test['Region_Code'] == 'R2') &(test['Store_Type']  == 'S1')]= 64\n",
    "\n",
    "#train['Avg_Order'].loc[(train['Location_Type'] == 'L2') & (train['Region_Code'] == 'R1') &(train['Store_Type']  == 'S2')]=  \n",
    "\n",
    "#test['Avg_Order'].loc[(test['Location_Type'] == 'L2') & (test['Region_Code'] == 'R1') &(test['Store_Type']  == 'S2')]= \n",
    "\n",
    "train['Avg_Order'].loc[(train['Location_Type'] == 'L2') & (train['Region_Code'] == 'R2') &(train['Store_Type']  == 'S3')]=  73 \n",
    "\n",
    "test['Avg_Order'].loc[(test['Location_Type'] == 'L2') & (test['Region_Code'] == 'R2') &(test['Store_Type']  == 'S3')]= 73\n",
    "\n",
    "train['Avg_Order'].loc[(train['Location_Type'] == 'L2') & (train['Region_Code'] == 'R2') &(train['Store_Type']  == 'S4')]=   95 \n",
    "\n",
    "test ['Avg_Order'].loc[(test['Location_Type'] == 'L2') & (test['Region_Code'] == 'R2') &(test['Store_Type']  == 'S4')]= 95\n",
    "\n",
    "\n",
    "##\n",
    "train['Avg_Order'].loc[(train['Location_Type'] == 'L2') & (train['Region_Code'] == 'R3') &(train['Store_Type']  == 'S1')]=   64\n",
    "\n",
    "test['Avg_Order'].loc[(test['Location_Type'] == 'L2') & (test['Region_Code'] == 'R3') &(test['Store_Type']  == 'S1')]= 64\n",
    "\n",
    "#train['Avg_Order'].loc[(train['Location_Type'] == 'L2') & (train['Region_Code'] == 'R1') &(train['Store_Type']  == 'S2')]=  \n",
    "\n",
    "#test['Avg_Order'].loc[(test['Location_Type'] == 'L2') & (test['Region_Code'] == 'R1') &(test['Store_Type']  == 'S2')]= \n",
    "\n",
    "train['Avg_Order'].loc[(train['Location_Type'] == 'L2') & (train['Region_Code'] == 'R3') &(train['Store_Type']  == 'S3')]=  74 \n",
    "\n",
    "test['Avg_Order'].loc[(test['Location_Type'] == 'L2') & (test['Region_Code'] == 'R3') &(test['Store_Type']  == 'S3')]= 74\n",
    "\n",
    "train['Avg_Order'].loc[(train['Location_Type'] == 'L2') & (train['Region_Code'] == 'R3') &(train['Store_Type']  == 'S4')]=   87 \n",
    "\n",
    "test ['Avg_Order'].loc[(test['Location_Type'] == 'L2') & (test['Region_Code'] == 'R3') &(test['Store_Type']  == 'S4')]= 87\n",
    "\n",
    "\n",
    "##\n",
    "train['Avg_Order'].loc[(train['Location_Type'] == 'L2') & (train['Region_Code'] == 'R4') &(train['Store_Type']  == 'S1')]=   64\n",
    "\n",
    "test['Avg_Order'].loc[(test['Location_Type'] == 'L2') & (test['Region_Code'] == 'R4') &(test['Store_Type']  == 'S1')]= 64\n",
    "\n",
    "#train['Avg_Order'].loc[(train['Location_Type'] == 'L2') & (train['Region_Code'] == 'R1') &(train['Store_Type']  == 'S2')]=  \n",
    "\n",
    "#test['Avg_Order'].loc[(test['Location_Type'] == 'L2') & (test['Region_Code'] == 'R1') &(test['Store_Type']  == 'S2')]= \n",
    "\n",
    "train['Avg_Order'].loc[(train['Location_Type'] == 'L2') & (train['Region_Code'] == 'R4') &(train['Store_Type']  == 'S3')]=  72 \n",
    "\n",
    "test['Avg_Order'].loc[(test['Location_Type'] == 'L2') & (test['Region_Code'] == 'R4') &(test['Store_Type']  == 'S3')]= 72\n",
    "\n",
    "train['Avg_Order'].loc[(train['Location_Type'] == 'L2') & (train['Region_Code'] == 'R4') &(train['Store_Type']  == 'S4')]=   90 \n",
    "\n",
    "test ['Avg_Order'].loc[(test['Location_Type'] == 'L2') & (test['Region_Code'] == 'R4') &(test['Store_Type']  == 'S4')]= 90\n",
    "\n",
    "\n",
    "\n",
    "##\n",
    "train['Avg_Order'].loc[(train['Location_Type'] == 'L3') & (train['Region_Code'] == 'R1') &(train['Store_Type']  == 'S1')]=   59\n",
    "\n",
    "test['Avg_Order'].loc[(test['Location_Type'] == 'L3') & (test['Region_Code'] == 'R1') &(test['Store_Type']  == 'S1')]= 59\n",
    "\n",
    "train['Avg_Order'].loc[(train['Location_Type'] == 'L3') & (train['Region_Code'] == 'R1') &(train['Store_Type']  == 'S2')]=  46\n",
    "\n",
    "test['Avg_Order'].loc[(test['Location_Type'] == 'L3') & (test['Region_Code'] == 'R1') &(test['Store_Type']  == 'S2')]= 46\n",
    "\n",
    "train['Avg_Order'].loc[(train['Location_Type'] == 'L3') & (train['Region_Code'] == 'R1') &(train['Store_Type']  == 'S3')]=  46 \n",
    "\n",
    "test['Avg_Order'].loc[(test['Location_Type'] == 'L3') & (test['Region_Code'] == 'R1') &(test['Store_Type']  == 'S3')]= 46\n",
    "\n",
    "train['Avg_Order'].loc[(train['Location_Type'] == 'L3') & (train['Region_Code'] == 'R1') &(train['Store_Type']  == 'S4')]=   73 \n",
    "\n",
    "test ['Avg_Order'].loc[(test['Location_Type'] == 'L3') & (test['Region_Code'] == 'R1') &(test['Store_Type']  == 'S4')]= 73\n",
    "\n",
    "\n",
    "\n",
    "##\n",
    "train['Avg_Order'].loc[(train['Location_Type'] == 'L3') & (train['Region_Code'] == 'R2') &(train['Store_Type']  == 'S1')]=   57\n",
    "\n",
    "test['Avg_Order'].loc[(test['Location_Type'] == 'L3') & (test['Region_Code'] == 'R2') &(test['Store_Type']  == 'S1')]= 57\n",
    "\n",
    "train['Avg_Order'].loc[(train['Location_Type'] == 'L3') & (train['Region_Code'] == 'R2') &(train['Store_Type']  == 'S2')]=  44\n",
    "\n",
    "test['Avg_Order'].loc[(test['Location_Type'] == 'L3') & (test['Region_Code'] == 'R2') &(test['Store_Type']  == 'S2')]=  44\n",
    "\n",
    "#train['Avg_Order'].loc[(train['Location_Type'] == 'L3') & (train['Region_Code'] == 'R2') &(train['Store_Type']  == 'S3')]=  46 \n",
    "\n",
    "#test['Avg_Order'].loc[(test['Location_Type'] == 'L3') & (test['Region_Code'] == 'R2') &(test['Store_Type']  == 'S3')]= 46\n",
    "\n",
    "#train['Avg_Order'].loc[(train['Location_Type'] == 'L3') & (train['Region_Code'] == 'R2') &(train['Store_Type']  == 'S4')]=   73 \n",
    "\n",
    "#test ['Avg_Order'].loc[(test['Location_Type'] == 'L3') & (test['Region_Code'] == 'R2') &(test['Store_Type']  == 'S4')]= 73\n",
    "\n",
    "\n",
    "\n",
    "##\n",
    "train['Avg_Order'].loc[(train['Location_Type'] == 'L3') & (train['Region_Code'] == 'R3') &(train['Store_Type']  == 'S1')]=   52\n",
    "\n",
    "test['Avg_Order'].loc[(test['Location_Type'] == 'L3') & (test['Region_Code'] == 'R3') &(test['Store_Type']  == 'S1')]= 52\n",
    "\n",
    "train['Avg_Order'].loc[(train['Location_Type'] == 'L3') & (train['Region_Code'] == 'R3') &(train['Store_Type']  == 'S2')]=   41\n",
    "\n",
    "test['Avg_Order'].loc[(test['Location_Type'] == 'L3') & (test['Region_Code'] == 'R3') &(test['Store_Type']  == 'S2')]= 41\n",
    "\n",
    "train['Avg_Order'].loc[(train['Location_Type'] == 'L3') & (train['Region_Code'] == 'R3') &(train['Store_Type']  == 'S3')]=  70\n",
    "\n",
    "test['Avg_Order'].loc[(test['Location_Type'] == 'L3') & (test['Region_Code'] == 'R3') &(test['Store_Type']  == 'S3')]= 70\n",
    "\n",
    "#train['Avg_Order'].loc[(train['Location_Type'] == 'L3') & (train['Region_Code'] == 'R3') &(train['Store_Type']  == 'S4')]=   73 \n",
    "\n",
    "#test ['Avg_Order'].loc[(test['Location_Type'] == 'L3') & (test['Region_Code'] == 'R3') &(test['Store_Type']  == 'S4')]= 73\n",
    "\n",
    "\n",
    "\n",
    "##\n",
    "train['Avg_Order'].loc[(train['Location_Type'] == 'L3') & (train['Region_Code'] == 'R4') &(train['Store_Type']  == 'S1')]=   55\n",
    "\n",
    "test['Avg_Order'].loc[(test['Location_Type'] == 'L3') & (test['Region_Code'] == 'R4') &(test['Store_Type']  == 'S1')]= 55\n",
    "\n",
    "train['Avg_Order'].loc[(train['Location_Type'] == 'L3') & (train['Region_Code'] == 'R4') &(train['Store_Type']  == 'S2')]=   41\n",
    "\n",
    "test['Avg_Order'].loc[(test['Location_Type'] == 'L3') & (test['Region_Code'] == 'R4') &(test['Store_Type']  == 'S2')]= 41\n",
    "\n",
    "#train['Avg_Order'].loc[(train['Location_Type'] == 'L3') & (train['Region_Code'] == 'R4') &(train['Store_Type']  == 'S3')]=  70\n",
    "\n",
    "#test['Avg_Order'].loc[(test['Location_Type'] == 'L3') & (test['Region_Code'] == 'R4') &(test['Store_Type']  == 'S3')]= 70\n",
    "\n",
    "#train['Avg_Order'].loc[(train['Location_Type'] == 'L3') & (train['Region_Code'] == 'R4') &(train['Store_Type']  == 'S4')]=   73 \n",
    "\n",
    "#test ['Avg_Order'].loc[(test['Location_Type'] == 'L3') & (test['Region_Code'] == 'R4') &(test['Store_Type']  == 'S4')]= 73\n",
    "\n",
    "\n",
    "\n",
    "##\n",
    "train['Avg_Order'].loc[(train['Location_Type'] == 'L4') & (train['Region_Code'] == 'R1') &(train['Store_Type']  == 'S1')]=   55\n",
    "\n",
    "test['Avg_Order'].loc[(test['Location_Type'] == 'L4') & (test['Region_Code'] == 'R1') &(test['Store_Type']  == 'S1')]= 55\n",
    "\n",
    "\n",
    "##\n",
    "train['Avg_Order'].loc[(train['Location_Type'] == 'L4') & (train['Region_Code'] == 'R2') &(train['Store_Type']  == 'S2')]=   41\n",
    "\n",
    "test['Avg_Order'].loc[(test['Location_Type'] == 'L4') & (test['Region_Code'] == 'R2') &(test['Store_Type']  == 'S2')]= 41\n",
    "\n",
    "train['Avg_Order'].loc[(train['Location_Type'] == 'L4') & (train['Region_Code'] == 'R2') &(train['Store_Type']  == 'S1')]=  52\n",
    "\n",
    "test['Avg_Order'].loc[(test['Location_Type'] == 'L4') & (test['Region_Code'] == 'R2') &(test['Store_Type']  == 'S1')]= 52\n",
    "\n",
    "#train['Avg_Order'].loc[(train['Location_Type'] == 'L4') & (train['Region_Code'] == 'R2') &(train['Store_Type']  == 'S4')]=   73 \n",
    "\n",
    "#test ['Avg_Order'].loc[(test['Location_Type'] == 'L4') & (test['Region_Code'] == 'R2') &(test['Store_Type']  == 'S4')]= 73\n",
    "\n",
    "\n",
    "\n",
    "train['Avg_Order'].loc[(train['Location_Type'] == 'L4') & (train['Region_Code'] == 'R3') &(train['Store_Type']  == 'S2')]=   41\n",
    "\n",
    "test['Avg_Order'].loc[(test['Location_Type'] == 'L4') & (test['Region_Code'] == 'R3') &(test['Store_Type']  == 'S2')]= 41\n",
    "\n",
    "train['Avg_Order'].loc[(train['Location_Type'] == 'L4') & (train['Region_Code'] == 'R3') &(train['Store_Type']  == 'S1')]=  49\n",
    "\n",
    "test['Avg_Order'].loc[(test['Location_Type'] == 'L4') & (test['Region_Code'] == 'R3') &(test['Store_Type']  == 'S1')]= 49\n",
    "\n",
    "\n",
    "train['Avg_Order'].loc[(train['Location_Type'] == 'L4') & (train['Region_Code'] == 'R4') &(train['Store_Type']  == 'S2')]=   36\n",
    "\n",
    "test['Avg_Order'].loc[(test['Location_Type'] == 'L4') & (test['Region_Code'] == 'R4') &(test['Store_Type']  == 'S2')]= 36\n",
    "\n",
    "\n",
    "\n",
    "\n",
    "\n",
    "train['Avg_Order'].loc[(train['Location_Type'] == 'L5') & (train['Region_Code'] == 'R1') &(train['Store_Type']  == 'S1')]=   58\n",
    "\n",
    "test['Avg_Order'].loc[(test['Location_Type'] == 'L5') & (test['Region_Code'] == 'R1') &(test['Store_Type']  == 'S1')]= 58\n",
    "\n",
    "train['Avg_Order'].loc[(train['Location_Type'] == 'L5') & (train['Region_Code'] == 'R1') &(train['Store_Type']  == 'S2')]=  37\n",
    "\n",
    "test['Avg_Order'].loc[(test['Location_Type'] == 'L5') & (test['Region_Code'] == 'R1') &(test['Store_Type']  == 'S2')]= 37\n",
    "\n",
    "\n",
    "\n",
    "\n",
    "train['Avg_Order'].loc[(train['Location_Type'] == 'L5') & (train['Region_Code'] == 'R2') &(train['Store_Type']  == 'S1')]=   49\n",
    "\n",
    "test['Avg_Order'].loc[(test['Location_Type'] == 'L5') & (test['Region_Code'] == 'R2') &(test['Store_Type']  == 'S1')]= 49\n",
    "\n",
    "train['Avg_Order'].loc[(train['Location_Type'] == 'L5') & (train['Region_Code'] == 'R2') &(train['Store_Type']  == 'S2')]=  38\n",
    "\n",
    "test['Avg_Order'].loc[(test['Location_Type'] == 'L5') & (test['Region_Code'] == 'R2') &(test['Store_Type']  == 'S2')]= 38\n",
    "\n",
    "\n",
    "\n",
    "\n",
    "train['Avg_Order'].loc[(train['Location_Type'] == 'L5') & (train['Region_Code'] == 'R3') &(train['Store_Type']  == 'S2')]=  37\n",
    "\n",
    "test['Avg_Order'].loc[(test['Location_Type'] == 'L5') & (test['Region_Code'] == 'R3') &(test['Store_Type']  == 'S2')]= 37\n",
    "\n",
    "\n",
    "\n",
    "train['Avg_Order'].loc[(train['Location_Type'] == 'L5') & (train['Region_Code'] == 'R4') &(train['Store_Type']  == 'S2')]=  37\n",
    "\n",
    "test['Avg_Order'].loc[(test['Location_Type'] == 'L5') & (test['Region_Code'] == 'R4') &(test['Store_Type']  == 'S2')]= 37\n",
    "\n",
    "\n",
    "\n",
    "\n",
    "\n",
    "\n",
    "\n"
   ]
  },
  {
   "cell_type": "code",
   "execution_count": 494,
   "id": "0b3096b1",
   "metadata": {},
   "outputs": [
    {
     "data": {
      "text/plain": [
       "count    182497.000000\n",
       "mean         65.320208\n",
       "std          25.577497\n",
       "min           0.000000\n",
       "25%          48.000000\n",
       "50%          62.000000\n",
       "75%          80.000000\n",
       "max         198.000000\n",
       "Name: #Order, dtype: float64"
      ]
     },
     "execution_count": 494,
     "metadata": {},
     "output_type": "execute_result"
    }
   ],
   "source": [
    "train['#Order'].describe()"
   ]
  },
  {
   "cell_type": "code",
   "execution_count": 422,
   "id": "1ea9dd11",
   "metadata": {},
   "outputs": [
    {
     "name": "stdout",
     "output_type": "stream",
     "text": [
      "There are 9 numeric and 6 categorical columns in train data\n"
     ]
    },
    {
     "data": {
      "text/plain": [
       "<AxesSubplot:>"
      ]
     },
     "execution_count": 422,
     "metadata": {},
     "output_type": "execute_result"
    },
    {
     "data": {
      "image/png": "[encoded data removed]",
      "text/plain": [
       "<Figure size 576x432 with 2 Axes>"
      ]
     },
     "metadata": {
      "needs_background": "light"
     },
     "output_type": "display_data"
    }
   ],
   "source": [
    "numeric_data = train.select_dtypes(include=[np.number])\n",
    "cat_data = train.select_dtypes(exclude=[np.number])\n",
    "print (\"There are {} numeric and {} categorical columns in train data\".format(numeric_data.shape[1],cat_data.shape[1]))\n",
    "\n",
    "#correlation plot\n",
    "corr = numeric_data.corr()\n",
    "sns.heatmap(corr)\n"
   ]
  },
  {
   "cell_type": "code",
   "execution_count": 423,
   "id": "33281865",
   "metadata": {},
   "outputs": [
    {
     "name": "stdout",
     "output_type": "stream",
     "text": [
      "Sales        1.000000\n",
      "#Order       0.926483\n",
      "Avg_Order    0.611893\n",
      "year         0.000938\n",
      "Store_id    -0.010977\n",
      "month       -0.022186\n",
      "Quarter     -0.023902\n",
      "Day         -0.033989\n",
      "Holiday     -0.172472\n",
      "Name: Sales, dtype: float64 \n",
      "\n"
     ]
    }
   ],
   "source": [
    "print (corr['Sales'].sort_values(ascending=False)[:15], '\\n')"
   ]
  },
  {
   "cell_type": "code",
   "execution_count": 536,
   "id": "c6f3e27d",
   "metadata": {},
   "outputs": [],
   "source": [
    "train_df  =train\n",
    "test_df = test\n"
   ]
  },
  {
   "cell_type": "code",
   "execution_count": 537,
   "id": "b5eebd8d",
   "metadata": {},
   "outputs": [
    {
     "data": {
      "text/html": [
       "<div>\n",
       "<style scoped>\n",
       "    .dataframe tbody tr th:only-of-type {\n",
       "        vertical-align: middle;\n",
       "    }\n",
       "\n",
       "    .dataframe tbody tr th {\n",
       "        vertical-align: top;\n",
       "    }\n",
       "\n",
       "    .dataframe thead th {\n",
       "        text-align: right;\n",
       "    }\n",
       "</style>\n",
       "<table border=\"1\" class=\"dataframe\">\n",
       "  <thead>\n",
       "    <tr style=\"text-align: right;\">\n",
       "      <th></th>\n",
       "      <th>ID</th>\n",
       "      <th>Store_id</th>\n",
       "      <th>Store_Type</th>\n",
       "      <th>Location_Type</th>\n",
       "      <th>Region_Code</th>\n",
       "      <th>Date</th>\n",
       "      <th>Holiday</th>\n",
       "      <th>Discount</th>\n",
       "      <th>#Order</th>\n",
       "      <th>Sales</th>\n",
       "      <th>year</th>\n",
       "      <th>month</th>\n",
       "      <th>Day</th>\n",
       "      <th>Quarter</th>\n",
       "    </tr>\n",
       "  </thead>\n",
       "  <tbody>\n",
       "    <tr>\n",
       "      <th>0</th>\n",
       "      <td>T1000001</td>\n",
       "      <td>1</td>\n",
       "      <td>S1</td>\n",
       "      <td>L3</td>\n",
       "      <td>R1</td>\n",
       "      <td>2018-01-01</td>\n",
       "      <td>1</td>\n",
       "      <td>Yes</td>\n",
       "      <td>9</td>\n",
       "      <td>7011.84</td>\n",
       "      <td>2018</td>\n",
       "      <td>1</td>\n",
       "      <td>1</td>\n",
       "      <td>1</td>\n",
       "    </tr>\n",
       "    <tr>\n",
       "      <th>1</th>\n",
       "      <td>T1000002</td>\n",
       "      <td>253</td>\n",
       "      <td>S4</td>\n",
       "      <td>L2</td>\n",
       "      <td>R1</td>\n",
       "      <td>2018-01-01</td>\n",
       "      <td>1</td>\n",
       "      <td>Yes</td>\n",
       "      <td>60</td>\n",
       "      <td>51789.12</td>\n",
       "      <td>2018</td>\n",
       "      <td>1</td>\n",
       "      <td>1</td>\n",
       "      <td>1</td>\n",
       "    </tr>\n",
       "    <tr>\n",
       "      <th>2</th>\n",
       "      <td>T1000003</td>\n",
       "      <td>252</td>\n",
       "      <td>S3</td>\n",
       "      <td>L2</td>\n",
       "      <td>R1</td>\n",
       "      <td>2018-01-01</td>\n",
       "      <td>1</td>\n",
       "      <td>Yes</td>\n",
       "      <td>42</td>\n",
       "      <td>36868.20</td>\n",
       "      <td>2018</td>\n",
       "      <td>1</td>\n",
       "      <td>1</td>\n",
       "      <td>1</td>\n",
       "    </tr>\n",
       "    <tr>\n",
       "      <th>3</th>\n",
       "      <td>T1000004</td>\n",
       "      <td>251</td>\n",
       "      <td>S2</td>\n",
       "      <td>L3</td>\n",
       "      <td>R1</td>\n",
       "      <td>2018-01-01</td>\n",
       "      <td>1</td>\n",
       "      <td>Yes</td>\n",
       "      <td>23</td>\n",
       "      <td>19715.16</td>\n",
       "      <td>2018</td>\n",
       "      <td>1</td>\n",
       "      <td>1</td>\n",
       "      <td>1</td>\n",
       "    </tr>\n",
       "    <tr>\n",
       "      <th>4</th>\n",
       "      <td>T1000005</td>\n",
       "      <td>250</td>\n",
       "      <td>S2</td>\n",
       "      <td>L3</td>\n",
       "      <td>R4</td>\n",
       "      <td>2018-01-01</td>\n",
       "      <td>1</td>\n",
       "      <td>Yes</td>\n",
       "      <td>62</td>\n",
       "      <td>45614.52</td>\n",
       "      <td>2018</td>\n",
       "      <td>1</td>\n",
       "      <td>1</td>\n",
       "      <td>1</td>\n",
       "    </tr>\n",
       "  </tbody>\n",
       "</table>\n",
       "</div>"
      ],
      "text/plain": [
       "         ID  Store_id Store_Type Location_Type Region_Code       Date  \\\n",
       "0  T1000001         1         S1            L3          R1 2018-01-01   \n",
       "1  T1000002       253         S4            L2          R1 2018-01-01   \n",
       "2  T1000003       252         S3            L2          R1 2018-01-01   \n",
       "3  T1000004       251         S2            L3          R1 2018-01-01   \n",
       "4  T1000005       250         S2            L3          R4 2018-01-01   \n",
       "\n",
       "   Holiday Discount  #Order     Sales  year  month  Day  Quarter  \n",
       "0        1      Yes       9   7011.84  2018      1    1        1  \n",
       "1        1      Yes      60  51789.12  2018      1    1        1  \n",
       "2        1      Yes      42  36868.20  2018      1    1        1  \n",
       "3        1      Yes      23  19715.16  2018      1    1        1  \n",
       "4        1      Yes      62  45614.52  2018      1    1        1  "
      ]
     },
     "execution_count": 537,
     "metadata": {},
     "output_type": "execute_result"
    }
   ],
   "source": [
    "train.head()"
   ]
  },
  {
   "cell_type": "code",
   "execution_count": 538,
   "id": "c1b7a65a",
   "metadata": {},
   "outputs": [
    {
     "data": {
      "text/plain": [
       "Index(['ID', 'Store_id', 'Store_Type', 'Location_Type', 'Region_Code', 'Date',\n",
       "       'Holiday', 'Discount', '#Order', 'Sales', 'year', 'month', 'Day',\n",
       "       'Quarter'],\n",
       "      dtype='object')"
      ]
     },
     "execution_count": 538,
     "metadata": {},
     "output_type": "execute_result"
    }
   ],
   "source": [
    "train_df.columns"
   ]
  },
  {
   "cell_type": "code",
   "execution_count": 539,
   "id": "f19e97fd",
   "metadata": {},
   "outputs": [],
   "source": [
    "y = train_df[['Sales']]"
   ]
  },
  {
   "cell_type": "code",
   "execution_count": 540,
   "id": "4bd86efa",
   "metadata": {},
   "outputs": [],
   "source": [
    "X = train_df.drop(['ID','Store_id','Date','#Order','Sales','Day'],axis =1)"
   ]
  },
  {
   "cell_type": "code",
   "execution_count": null,
   "id": "e2de738f",
   "metadata": {},
   "outputs": [],
   "source": []
  },
  {
   "cell_type": "code",
   "execution_count": 541,
   "id": "5b74ab4b",
   "metadata": {},
   "outputs": [],
   "source": [
    "X = pd.get_dummies(X)"
   ]
  },
  {
   "cell_type": "code",
   "execution_count": 542,
   "id": "cdaf5511",
   "metadata": {},
   "outputs": [
    {
     "data": {
      "text/html": [
       "<div>\n",
       "<style scoped>\n",
       "    .dataframe tbody tr th:only-of-type {\n",
       "        vertical-align: middle;\n",
       "    }\n",
       "\n",
       "    .dataframe tbody tr th {\n",
       "        vertical-align: top;\n",
       "    }\n",
       "\n",
       "    .dataframe thead th {\n",
       "        text-align: right;\n",
       "    }\n",
       "</style>\n",
       "<table border=\"1\" class=\"dataframe\">\n",
       "  <thead>\n",
       "    <tr style=\"text-align: right;\">\n",
       "      <th></th>\n",
       "      <th>Holiday</th>\n",
       "      <th>year</th>\n",
       "      <th>month</th>\n",
       "      <th>Quarter</th>\n",
       "      <th>Store_Type_S1</th>\n",
       "      <th>Store_Type_S2</th>\n",
       "      <th>Store_Type_S3</th>\n",
       "      <th>Store_Type_S4</th>\n",
       "      <th>Location_Type_L1</th>\n",
       "      <th>Location_Type_L2</th>\n",
       "      <th>Location_Type_L3</th>\n",
       "      <th>Location_Type_L4</th>\n",
       "      <th>Location_Type_L5</th>\n",
       "      <th>Region_Code_R1</th>\n",
       "      <th>Region_Code_R2</th>\n",
       "      <th>Region_Code_R3</th>\n",
       "      <th>Region_Code_R4</th>\n",
       "      <th>Discount_No</th>\n",
       "      <th>Discount_Yes</th>\n",
       "    </tr>\n",
       "  </thead>\n",
       "  <tbody>\n",
       "    <tr>\n",
       "      <th>0</th>\n",
       "      <td>1</td>\n",
       "      <td>2018</td>\n",
       "      <td>1</td>\n",
       "      <td>1</td>\n",
       "      <td>1</td>\n",
       "      <td>0</td>\n",
       "      <td>0</td>\n",
       "      <td>0</td>\n",
       "      <td>0</td>\n",
       "      <td>0</td>\n",
       "      <td>1</td>\n",
       "      <td>0</td>\n",
       "      <td>0</td>\n",
       "      <td>1</td>\n",
       "      <td>0</td>\n",
       "      <td>0</td>\n",
       "      <td>0</td>\n",
       "      <td>0</td>\n",
       "      <td>1</td>\n",
       "    </tr>\n",
       "    <tr>\n",
       "      <th>1</th>\n",
       "      <td>1</td>\n",
       "      <td>2018</td>\n",
       "      <td>1</td>\n",
       "      <td>1</td>\n",
       "      <td>0</td>\n",
       "      <td>0</td>\n",
       "      <td>0</td>\n",
       "      <td>1</td>\n",
       "      <td>0</td>\n",
       "      <td>1</td>\n",
       "      <td>0</td>\n",
       "      <td>0</td>\n",
       "      <td>0</td>\n",
       "      <td>1</td>\n",
       "      <td>0</td>\n",
       "      <td>0</td>\n",
       "      <td>0</td>\n",
       "      <td>0</td>\n",
       "      <td>1</td>\n",
       "    </tr>\n",
       "    <tr>\n",
       "      <th>2</th>\n",
       "      <td>1</td>\n",
       "      <td>2018</td>\n",
       "      <td>1</td>\n",
       "      <td>1</td>\n",
       "      <td>0</td>\n",
       "      <td>0</td>\n",
       "      <td>1</td>\n",
       "      <td>0</td>\n",
       "      <td>0</td>\n",
       "      <td>1</td>\n",
       "      <td>0</td>\n",
       "      <td>0</td>\n",
       "      <td>0</td>\n",
       "      <td>1</td>\n",
       "      <td>0</td>\n",
       "      <td>0</td>\n",
       "      <td>0</td>\n",
       "      <td>0</td>\n",
       "      <td>1</td>\n",
       "    </tr>\n",
       "    <tr>\n",
       "      <th>3</th>\n",
       "      <td>1</td>\n",
       "      <td>2018</td>\n",
       "      <td>1</td>\n",
       "      <td>1</td>\n",
       "      <td>0</td>\n",
       "      <td>1</td>\n",
       "      <td>0</td>\n",
       "      <td>0</td>\n",
       "      <td>0</td>\n",
       "      <td>0</td>\n",
       "      <td>1</td>\n",
       "      <td>0</td>\n",
       "      <td>0</td>\n",
       "      <td>1</td>\n",
       "      <td>0</td>\n",
       "      <td>0</td>\n",
       "      <td>0</td>\n",
       "      <td>0</td>\n",
       "      <td>1</td>\n",
       "    </tr>\n",
       "    <tr>\n",
       "      <th>4</th>\n",
       "      <td>1</td>\n",
       "      <td>2018</td>\n",
       "      <td>1</td>\n",
       "      <td>1</td>\n",
       "      <td>0</td>\n",
       "      <td>1</td>\n",
       "      <td>0</td>\n",
       "      <td>0</td>\n",
       "      <td>0</td>\n",
       "      <td>0</td>\n",
       "      <td>1</td>\n",
       "      <td>0</td>\n",
       "      <td>0</td>\n",
       "      <td>0</td>\n",
       "      <td>0</td>\n",
       "      <td>0</td>\n",
       "      <td>1</td>\n",
       "      <td>0</td>\n",
       "      <td>1</td>\n",
       "    </tr>\n",
       "  </tbody>\n",
       "</table>\n",
       "</div>"
      ],
      "text/plain": [
       "   Holiday  year  month  Quarter  Store_Type_S1  Store_Type_S2  Store_Type_S3  \\\n",
       "0        1  2018      1        1              1              0              0   \n",
       "1        1  2018      1        1              0              0              0   \n",
       "2        1  2018      1        1              0              0              1   \n",
       "3        1  2018      1        1              0              1              0   \n",
       "4        1  2018      1        1              0              1              0   \n",
       "\n",
       "   Store_Type_S4  Location_Type_L1  Location_Type_L2  Location_Type_L3  \\\n",
       "0              0                 0                 0                 1   \n",
       "1              1                 0                 1                 0   \n",
       "2              0                 0                 1                 0   \n",
       "3              0                 0                 0                 1   \n",
       "4              0                 0                 0                 1   \n",
       "\n",
       "   Location_Type_L4  Location_Type_L5  Region_Code_R1  Region_Code_R2  \\\n",
       "0                 0                 0               1               0   \n",
       "1                 0                 0               1               0   \n",
       "2                 0                 0               1               0   \n",
       "3                 0                 0               1               0   \n",
       "4                 0                 0               0               0   \n",
       "\n",
       "   Region_Code_R3  Region_Code_R4  Discount_No  Discount_Yes  \n",
       "0               0               0            0             1  \n",
       "1               0               0            0             1  \n",
       "2               0               0            0             1  \n",
       "3               0               0            0             1  \n",
       "4               0               1            0             1  "
      ]
     },
     "execution_count": 542,
     "metadata": {},
     "output_type": "execute_result"
    }
   ],
   "source": [
    "X.head()"
   ]
  },
  {
   "cell_type": "code",
   "execution_count": 543,
   "id": "ae82b06f",
   "metadata": {},
   "outputs": [],
   "source": [
    "from sklearn.model_selection import train_test_split\n",
    "X_train, X_test, y_train, y_test = train_test_split(X, y, test_size=0.3, random_state=42)"
   ]
  },
  {
   "cell_type": "code",
   "execution_count": 544,
   "id": "14a9f94f",
   "metadata": {},
   "outputs": [],
   "source": [
    "import xgboost as xgb\n",
    "import xgboost as xgb\n",
    "from xgboost import XGBRegressor\n",
    "from xgboost import XGBRFRegressor\n",
    "from sklearn.model_selection import GridSearchCV\n",
    "from sklearn.metrics import mean_squared_log_error"
   ]
  },
  {
   "cell_type": "code",
   "execution_count": 414,
   "id": "7e5240c9",
   "metadata": {},
   "outputs": [
    {
     "name": "stdout",
     "output_type": "stream",
     "text": [
      "Wall time: 3.54 s\n",
      "mean_squared_log_error:  0.12476710033374089\n"
     ]
    }
   ],
   "source": [
    "xgb_model = XGBRegressor(\n",
    "\n",
    "        learning_rate = 0.01,\n",
    "        max_depth = 1,\n",
    "        min_child_weight = 3,\n",
    "        n_estimators = 500)\n",
    "\n",
    "%time xgb_model.fit(X_train, y_train, verbose=False)\n",
    "\n",
    "y_pred_xgb = xgb_model.predict(X_test)\n",
    "\n",
    "mae_xgb = mean_squared_log_error(y_test, y_pred_xgb)\n",
    "\n",
    "print(\"mean_squared_log_error: \", mae_xgb)"
   ]
  },
  {
   "cell_type": "code",
   "execution_count": 545,
   "id": "0345013c",
   "metadata": {},
   "outputs": [
    {
     "name": "stdout",
     "output_type": "stream",
     "text": [
      "[[23897.86627927]\n",
      " [20218.95647632]\n",
      " [30481.04015142]\n",
      " ...\n",
      " [53786.51461366]\n",
      " [38646.33891853]\n",
      " [30482.20051719]]\n",
      "RMSE : 0.08384781508387484\n"
     ]
    }
   ],
   "source": [
    "from sklearn.linear_model import LinearRegression\n",
    "from sklearn.metrics import mean_squared_log_error\n",
    "from sklearn.metrics import r2_score\n",
    "\n",
    "lr = LinearRegression()\n",
    "lr.fit(X_train, y_train)\n",
    "\n",
    "# predicting the  test set results\n",
    "y_pred = lr.predict(X_test)\n",
    "print(y_pred)\n",
    "\n",
    "# finding the mean squared error and variance\n",
    "mse = mean_squared_log_error(y_test, y_pred)\n",
    "print('RMSE :', (mse))\n"
   ]
  },
  {
   "cell_type": "code",
   "execution_count": 122,
   "id": "56c3a33d",
   "metadata": {},
   "outputs": [
    {
     "data": {
      "text/plain": [
       "0.1337384177534646"
      ]
     },
     "execution_count": 122,
     "metadata": {},
     "output_type": "execute_result"
    }
   ],
   "source": [
    "from sklearn.ensemble import AdaBoostRegressor\n",
    "\n",
    "Ada_Boost= AdaBoostRegressor(n_estimators = 100)\n",
    "Ada_Boost.fit(X_train, y_train)\n",
    "\n",
    "# predicting the test set results\n",
    "y_pred = Ada_Boost.predict(X_test)\n",
    "\n",
    "mse = mean_squared_log_error(y_test, y_pred)\n",
    "mse"
   ]
  },
  {
   "cell_type": "code",
   "execution_count": 93,
   "id": "51e88fea",
   "metadata": {},
   "outputs": [
    {
     "data": {
      "text/plain": [
       "Index(['Holiday', 'year', 'month', 'Day', 'Quarter', 'Store_Type_S1',\n",
       "       'Store_Type_S2', 'Store_Type_S3', 'Store_Type_S4', 'Location_Type_L1',\n",
       "       'Location_Type_L2', 'Location_Type_L3', 'Location_Type_L4',\n",
       "       'Location_Type_L5', 'Region_Code_R1', 'Region_Code_R2',\n",
       "       'Region_Code_R3', 'Region_Code_R4', 'Discount_No', 'Discount_Yes'],\n",
       "      dtype='object')"
      ]
     },
     "execution_count": 93,
     "metadata": {},
     "output_type": "execute_result"
    }
   ],
   "source": [
    "X.columns"
   ]
  },
  {
   "cell_type": "code",
   "execution_count": 546,
   "id": "a510e852",
   "metadata": {},
   "outputs": [],
   "source": [
    "test_data  =test_df"
   ]
  },
  {
   "cell_type": "code",
   "execution_count": 547,
   "id": "e3f248cc",
   "metadata": {},
   "outputs": [],
   "source": [
    "test_x = test_data.drop(['ID','Store_id','Date','Day'],axis =1)"
   ]
  },
  {
   "cell_type": "code",
   "execution_count": 548,
   "id": "6eaca419",
   "metadata": {},
   "outputs": [],
   "source": [
    "yy = pd.get_dummies(test_x)"
   ]
  },
  {
   "cell_type": "code",
   "execution_count": 549,
   "id": "684d182b",
   "metadata": {},
   "outputs": [
    {
     "data": {
      "text/plain": [
       "Index(['Holiday', 'year', 'month', 'Quarter', 'Store_Type_S1', 'Store_Type_S2',\n",
       "       'Store_Type_S3', 'Store_Type_S4', 'Location_Type_L1',\n",
       "       'Location_Type_L2', 'Location_Type_L3', 'Location_Type_L4',\n",
       "       'Location_Type_L5', 'Region_Code_R1', 'Region_Code_R2',\n",
       "       'Region_Code_R3', 'Region_Code_R4', 'Discount_No', 'Discount_Yes'],\n",
       "      dtype='object')"
      ]
     },
     "execution_count": 549,
     "metadata": {},
     "output_type": "execute_result"
    }
   ],
   "source": [
    "yy.columns"
   ]
  },
  {
   "cell_type": "code",
   "execution_count": 98,
   "id": "ccae6854",
   "metadata": {},
   "outputs": [],
   "source": [
    "y_test = xgb_model.predict(yy)"
   ]
  },
  {
   "cell_type": "code",
   "execution_count": 550,
   "id": "7e5548d1",
   "metadata": {},
   "outputs": [],
   "source": [
    "y_lr = lr.predict(yy)"
   ]
  },
  {
   "cell_type": "code",
   "execution_count": 126,
   "id": "e51247b8",
   "metadata": {},
   "outputs": [],
   "source": [
    "y_Ada_Boost = Ada_Boost.predict(yy)\n",
    "\n",
    "data = pd.DataFrame()\n",
    "data['ID'] = test['ID']\n",
    "data['Sales'] = y_Ada_Boost"
   ]
  },
  {
   "cell_type": "code",
   "execution_count": 117,
   "id": "ed569405",
   "metadata": {},
   "outputs": [],
   "source": [
    "data  =pd.DataFrame()"
   ]
  },
  {
   "cell_type": "code",
   "execution_count": 100,
   "id": "e727e95e",
   "metadata": {},
   "outputs": [],
   "source": [
    "data['ID'] = test['ID']\n",
    "data['Sales'] = y_test\n",
    "\n",
    "\n",
    "\n",
    "\n"
   ]
  },
  {
   "cell_type": "code",
   "execution_count": 552,
   "id": "7d86c30a",
   "metadata": {},
   "outputs": [],
   "source": [
    "data['ID'] = test['ID']\n",
    "data['Sales'] = y_lr"
   ]
  },
  {
   "cell_type": "code",
   "execution_count": 553,
   "id": "55b31fb2",
   "metadata": {},
   "outputs": [
    {
     "data": {
      "text/plain": [
       "(22265, 2)"
      ]
     },
     "execution_count": 553,
     "metadata": {},
     "output_type": "execute_result"
    }
   ],
   "source": [
    "data.shape"
   ]
  },
  {
   "cell_type": "code",
   "execution_count": 554,
   "id": "69271dcf",
   "metadata": {},
   "outputs": [
    {
     "data": {
      "text/plain": [
       "(22265, 12)"
      ]
     },
     "execution_count": 554,
     "metadata": {},
     "output_type": "execute_result"
    }
   ],
   "source": [
    "test.shape"
   ]
  },
  {
   "cell_type": "code",
   "execution_count": 103,
   "id": "ba0ccc82",
   "metadata": {},
   "outputs": [],
   "source": [
    "data.to_csv(r'C:\\Users\\hemanth.kumar\\Downloads\\Supplement Sales Prediction3.csv',index = False)"
   ]
  },
  {
   "cell_type": "code",
   "execution_count": 555,
   "id": "120e5c99",
   "metadata": {},
   "outputs": [],
   "source": [
    "data.to_csv(r'C:\\Users\\hemanth.kumar\\Downloads\\Supplement Sales Prediction_lr2.csv',index = False)"
   ]
  },
  {
   "cell_type": "code",
   "execution_count": null,
   "id": "c56e240a",
   "metadata": {},
   "outputs": [],
   "source": []
  }
 ],
 "metadata": {
  "kernelspec": {
   "display_name": "Python 3",
   "language": "python",
   "name": "python3"
  },
  "language_info": {
   "codemirror_mode": {
    "name": "ipython",
    "version": 3
   },
   "file_extension": ".py",
   "mimetype": "text/x-python",
   "name": "python",
   "nbconvert_exporter": "python",
   "pygments_lexer": "ipython3",
   "version": "3.8.8"
  }
 },
 "nbformat": 4,
 "nbformat_minor": 5
}
